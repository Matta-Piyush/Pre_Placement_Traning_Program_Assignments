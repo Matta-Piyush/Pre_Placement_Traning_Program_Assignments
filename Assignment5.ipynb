{
 "cells": [
  {
   "cell_type": "markdown",
   "id": "74cc7558-8503-445a-b690-5ac9ecf9561c",
   "metadata": {},
   "source": [
    "## Question1"
   ]
  },
  {
   "cell_type": "code",
   "execution_count": 1,
   "id": "f950e65f-37ff-4ba2-ab40-ea8deb89a410",
   "metadata": {},
   "outputs": [
    {
     "data": {
      "text/plain": [
       "[[1, 2], [3, 4]]"
      ]
     },
     "execution_count": 1,
     "metadata": {},
     "output_type": "execute_result"
    }
   ],
   "source": [
    "def transform(num,m,n):\n",
    "    if (m*n)!=len(num):\n",
    "            return []\n",
    "        \n",
    "    result=[[None] * n for i in range(m)]\n",
    "        \n",
    "    for i in range(len(num)):\n",
    "        row=i//n\n",
    "        col=i%n\n",
    "        result[row][col]=num[i]\n",
    "        \n",
    "    return result\n",
    "num = [1, 2, 3, 4]\n",
    "transform(num,2,2)"
   ]
  },
  {
   "cell_type": "markdown",
   "id": "406ccd8e-23a7-4965-90a8-37185d678357",
   "metadata": {},
   "source": [
    "## Question2"
   ]
  },
  {
   "cell_type": "code",
   "execution_count": 2,
   "id": "51eb573b-7759-453b-8388-04e2ff6efd18",
   "metadata": {},
   "outputs": [
    {
     "data": {
      "text/plain": [
       "2"
      ]
     },
     "execution_count": 2,
     "metadata": {},
     "output_type": "execute_result"
    }
   ],
   "source": [
    "def arrange_coins(n):\n",
    "    left = 1\n",
    "    right = n\n",
    "\n",
    "    while left <= right:\n",
    "        mid = (left + right) // 2\n",
    "        total = (mid * (mid + 1)) // 2\n",
    "\n",
    "        if total > n:\n",
    "            right = mid - 1\n",
    "        else:\n",
    "            left = mid + 1\n",
    "\n",
    "    return right\n",
    "n=3\n",
    "arrange_coins(n)"
   ]
  },
  {
   "cell_type": "markdown",
   "id": "0a0d8646-0d0c-48f6-b786-700ebfb45114",
   "metadata": {},
   "source": [
    "## Question3"
   ]
  },
  {
   "cell_type": "code",
   "execution_count": 3,
   "id": "cad774eb-4cb9-4811-afc5-dc28ae044832",
   "metadata": {},
   "outputs": [
    {
     "data": {
      "text/plain": [
       "[0, 1, 9, 16, 100]"
      ]
     },
     "execution_count": 3,
     "metadata": {},
     "output_type": "execute_result"
    }
   ],
   "source": [
    "def sorted_squares(nums):\n",
    "    result = []\n",
    "    for i in nums:\n",
    "        result.append(i ** 2)\n",
    "    result.sort()\n",
    "    return result\n",
    "nums = [-4,-1,0,3,10]\n",
    "sorted_squares(nums)"
   ]
  },
  {
   "cell_type": "markdown",
   "id": "312bce70-8a07-4286-a357-b74cebe9e83a",
   "metadata": {},
   "source": [
    "## Question4"
   ]
  },
  {
   "cell_type": "code",
   "execution_count": 4,
   "id": "1451882a-60e5-4a00-afd1-7f28b764b696",
   "metadata": {},
   "outputs": [
    {
     "data": {
      "text/plain": [
       "[[1, 3], [4, 6]]"
      ]
     },
     "execution_count": 4,
     "metadata": {},
     "output_type": "execute_result"
    }
   ],
   "source": [
    "def distinct_nums(nums1, nums2):\n",
    "    set1 = set(nums1)\n",
    "    set2 = set(nums2)\n",
    "    result1 = []\n",
    "    result2 = []\n",
    "\n",
    "    for num in nums1:\n",
    "        if num not in set2:\n",
    "            result1.append(num)\n",
    "\n",
    "    for num in nums2:\n",
    "        if num not in set1:\n",
    "            result2.append(num)\n",
    "\n",
    "    return [result1, result2]\n",
    "nums1 = [1,2,3]\n",
    "nums2 = [2,4,6]\n",
    "distinct_nums(nums1,nums2)"
   ]
  },
  {
   "cell_type": "markdown",
   "id": "6979fda8-b914-4dd5-9e9a-11a44669f9d5",
   "metadata": {},
   "source": [
    "## Question5"
   ]
  },
  {
   "cell_type": "code",
   "execution_count": 5,
   "id": "e5b9af33-8000-4208-889d-19c459269882",
   "metadata": {},
   "outputs": [
    {
     "data": {
      "text/plain": [
       "2"
      ]
     },
     "execution_count": 5,
     "metadata": {},
     "output_type": "execute_result"
    }
   ],
   "source": [
    "def distance_btw_array(arr1,arr2,d):\n",
    "    count=0\n",
    "    for num1 in arr1:\n",
    "        for num2 in arr2:\n",
    "            if abs(num1 - num2) <= d:\n",
    "                count+=1\n",
    "                break\n",
    "    \n",
    "    return len(arr1)-count\n",
    "arr1 = [4,5,8]\n",
    "arr2 = [10,9,1,8]\n",
    "d = 2\n",
    "distance_btw_array(arr1,arr2,d)"
   ]
  },
  {
   "cell_type": "markdown",
   "id": "ae3dca02-c7a0-4dbb-808d-7d8532178bcb",
   "metadata": {},
   "source": [
    "## Question6"
   ]
  },
  {
   "cell_type": "code",
   "execution_count": 6,
   "id": "5712ec3f-3dad-4868-bc24-b8314abdd14a",
   "metadata": {},
   "outputs": [
    {
     "data": {
      "text/plain": [
       "[2, 3]"
      ]
     },
     "execution_count": 6,
     "metadata": {},
     "output_type": "execute_result"
    }
   ],
   "source": [
    "def repeatedElements(nums):\n",
    "    result = []\n",
    "    for i in nums:\n",
    "        ind = abs(i) - 1\n",
    "        if nums[ind] < 0:\n",
    "            result.append(abs(i))\n",
    "        else:\n",
    "            nums[ind] = -nums[ind]\n",
    "    return result\n",
    "nums = [4,3,2,7,8,2,3,1]\n",
    "repeatedElements(nums)\n"
   ]
  },
  {
   "cell_type": "markdown",
   "id": "0027cc17-cf6c-4418-9088-87f6231ee15a",
   "metadata": {},
   "source": [
    "## Question7"
   ]
  },
  {
   "cell_type": "code",
   "execution_count": 7,
   "id": "427e7c74-8dfd-42b3-923c-a7430cce335e",
   "metadata": {},
   "outputs": [
    {
     "data": {
      "text/plain": [
       "1"
      ]
     },
     "execution_count": 7,
     "metadata": {},
     "output_type": "execute_result"
    }
   ],
   "source": [
    "def findMin(nums):\n",
    "    l = 0\n",
    "    r = len(nums) - 1\n",
    "\n",
    "    while l < r:\n",
    "        mid = (l + r) // 2\n",
    "\n",
    "        if nums[mid] > nums[r]:\n",
    "            l = mid + 1\n",
    "        else:\n",
    "            r = mid\n",
    "\n",
    "    return nums[l]\n",
    "nums = [3,4,5,1,2]\n",
    "findMin(nums)\n"
   ]
  },
  {
   "cell_type": "markdown",
   "id": "a7b4f04f-3e4b-41d5-8323-068380bac901",
   "metadata": {},
   "source": [
    "## Question8"
   ]
  },
  {
   "cell_type": "code",
   "execution_count": 16,
   "id": "ecf5da3e-d71f-4e16-96ae-0d7249d82035",
   "metadata": {},
   "outputs": [
    {
     "data": {
      "text/plain": [
       "[1, 3, 4]"
      ]
     },
     "execution_count": 16,
     "metadata": {},
     "output_type": "execute_result"
    }
   ],
   "source": [
    "def findOriginalArray(changed):\n",
    "    if len(changed) % 2 != 0:\n",
    "        return []  # If the length is odd, it can't be a doubled array\n",
    "\n",
    "    count_dict = {}\n",
    "    for num in changed:\n",
    "        count_dict[num] = count_dict.get(num, 0) + 1\n",
    "\n",
    "    original = []\n",
    "    for num in sorted(changed):\n",
    "        if count_dict.get(num * 2, 0) > 0 and count_dict[num] > 0:\n",
    "            original.append(num)\n",
    "            count_dict[num] -= 1\n",
    "            count_dict[num * 2] -= 1\n",
    "\n",
    "    if sum(count_dict.values()) != 0:  # Check if all elements have been used\n",
    "        return []\n",
    "\n",
    "    return original\n",
    "\n",
    "\n",
    "changed = [1,3,4,2,6,8]\n",
    "findOriginalArray(changed)\n"
   ]
  },
  {
   "cell_type": "code",
   "execution_count": null,
   "id": "eef57cb7-addf-4b8a-bb8d-b7b758db9669",
   "metadata": {},
   "outputs": [],
   "source": []
  }
 ],
 "metadata": {
  "kernelspec": {
   "display_name": "Python 3 (ipykernel)",
   "language": "python",
   "name": "python3"
  },
  "language_info": {
   "codemirror_mode": {
    "name": "ipython",
    "version": 3
   },
   "file_extension": ".py",
   "mimetype": "text/x-python",
   "name": "python",
   "nbconvert_exporter": "python",
   "pygments_lexer": "ipython3",
   "version": "3.10.8"
  }
 },
 "nbformat": 4,
 "nbformat_minor": 5
}
