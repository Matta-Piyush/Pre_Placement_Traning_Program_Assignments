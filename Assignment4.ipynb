{
 "cells": [
  {
   "cell_type": "markdown",
   "id": "2d7c2404-61b1-4e55-813a-c2150aa358c3",
   "metadata": {},
   "source": [
    "## Question1"
   ]
  },
  {
   "cell_type": "code",
   "execution_count": 1,
   "id": "67366695-1d3c-45a7-9d45-b4f2cdd507cc",
   "metadata": {},
   "outputs": [
    {
     "data": {
      "text/plain": [
       "[1, 5]"
      ]
     },
     "execution_count": 1,
     "metadata": {},
     "output_type": "execute_result"
    }
   ],
   "source": [
    "def common_elements(nums1, nums2, nums3):\n",
    "    i, j, k = 0, 0, 0\n",
    "    result = []\n",
    "\n",
    "    while i < len(nums1) and j < len(nums2) and k < len(nums3):\n",
    "        if nums1[i] == nums2[j] == nums3[k]:\n",
    "            result.append(nums1[i])\n",
    "            i += 1\n",
    "            j += 1\n",
    "            k += 1\n",
    "        else:\n",
    "            min_val = min(nums1[i], nums2[j], nums3[k])\n",
    "            if nums1[i] == min_val:\n",
    "                i += 1\n",
    "            if nums2[j] == min_val:\n",
    "                j += 1\n",
    "            if nums3[k] == min_val:\n",
    "                k += 1\n",
    "\n",
    "    return result\n",
    "arr1 = [1,2,3,4,5] \n",
    "arr2 = [1,2,5,7,9]\n",
    "arr3 = [1,3,4,5,8]\n",
    "common_elements(arr1,arr2,arr3)"
   ]
  },
  {
   "cell_type": "markdown",
   "id": "08934947-f8c7-4221-a5e9-23668423ee99",
   "metadata": {},
   "source": [
    "## Question2"
   ]
  },
  {
   "cell_type": "code",
   "execution_count": 2,
   "id": "3bd9f535-80ee-40a0-a57f-a4ef28ebb821",
   "metadata": {},
   "outputs": [
    {
     "data": {
      "text/plain": [
       "[[1, 3], [4, 6]]"
      ]
     },
     "execution_count": 2,
     "metadata": {},
     "output_type": "execute_result"
    }
   ],
   "source": [
    "def distinct_nums(nums1, nums2):\n",
    "    set1 = set(nums1)\n",
    "    set2 = set(nums2)\n",
    "    result1 = []\n",
    "    result2 = []\n",
    "\n",
    "    for num in nums1:\n",
    "        if num not in set2:\n",
    "            result1.append(num)\n",
    "\n",
    "    for num in nums2:\n",
    "        if num not in set1:\n",
    "            result2.append(num)\n",
    "\n",
    "    return [result1, result2]\n",
    "nums1 = [1,2,3]\n",
    "nums2 = [2,4,6]\n",
    "distinct_nums(nums1,nums2)"
   ]
  },
  {
   "cell_type": "markdown",
   "id": "4f006115-51d3-4b9f-8407-b9adaa80a72a",
   "metadata": {},
   "source": [
    "## Question3"
   ]
  },
  {
   "cell_type": "code",
   "execution_count": 18,
   "id": "3d72f3c2-3679-4ede-8794-cb1475408f7b",
   "metadata": {},
   "outputs": [
    {
     "data": {
      "text/plain": [
       "[[1, 4, 7], [2, 5, 8], [3, 6, 9]]"
      ]
     },
     "execution_count": 18,
     "metadata": {},
     "output_type": "execute_result"
    }
   ],
   "source": [
    "def transpose(matrix):\n",
    "    r = len(matrix)\n",
    "    c = len(matrix[0])\n",
    "    result = [[0] * r for i in range(c)]\n",
    "\n",
    "    for i in range(r):\n",
    "        for j in range(c):\n",
    "            result[j][i] = matrix[i][j]\n",
    "\n",
    "    return result\n",
    "\n",
    "matrix = [[1,2,3],[4,5,6],[7,8,9]]\n",
    "transpose(matrix)"
   ]
  },
  {
   "cell_type": "markdown",
   "id": "87141291-c161-4166-996a-76a4e5dfb491",
   "metadata": {},
   "source": [
    "## Question4"
   ]
  },
  {
   "cell_type": "code",
   "execution_count": 19,
   "id": "af6c48ec-400c-4959-bd05-fedce314fa75",
   "metadata": {},
   "outputs": [
    {
     "data": {
      "text/plain": [
       "4"
      ]
     },
     "execution_count": 19,
     "metadata": {},
     "output_type": "execute_result"
    }
   ],
   "source": [
    "def max_sum(nums):\n",
    "    nums.sort()\n",
    "    max_sum = 0\n",
    "\n",
    "    for i in range(0, len(nums), 2):\n",
    "        max_sum += nums[i]\n",
    "\n",
    "    return max_sum\n",
    "nums = [1,4,3,2]\n",
    "max_sum(nums)"
   ]
  },
  {
   "cell_type": "markdown",
   "id": "a0391ae0-4ed5-45b6-acb9-0d230e1df470",
   "metadata": {},
   "source": [
    "## Question5"
   ]
  },
  {
   "cell_type": "code",
   "execution_count": 20,
   "id": "b522cc28-8b3c-400e-b9ab-53ce2d8edb7e",
   "metadata": {},
   "outputs": [
    {
     "data": {
      "text/plain": [
       "2"
      ]
     },
     "execution_count": 20,
     "metadata": {},
     "output_type": "execute_result"
    }
   ],
   "source": [
    "def arrange_coins(n):\n",
    "    left = 1\n",
    "    right = n\n",
    "\n",
    "    while left <= right:\n",
    "        mid = (left + right) // 2\n",
    "        total = (mid * (mid + 1)) // 2\n",
    "\n",
    "        if total > n:\n",
    "            right = mid - 1\n",
    "        else:\n",
    "            left = mid + 1\n",
    "\n",
    "    return right\n",
    "n=3\n",
    "arrange_coins(n)"
   ]
  },
  {
   "cell_type": "markdown",
   "id": "9b724a92-7cd6-4a43-86e3-a6c1f2cac8a5",
   "metadata": {},
   "source": [
    "## Question6"
   ]
  },
  {
   "cell_type": "code",
   "execution_count": 22,
   "id": "73cc5534-94da-4244-8d78-a630bdcf2b4a",
   "metadata": {},
   "outputs": [
    {
     "data": {
      "text/plain": [
       "[0, 1, 9, 16, 100]"
      ]
     },
     "execution_count": 22,
     "metadata": {},
     "output_type": "execute_result"
    }
   ],
   "source": [
    "def sorted_squares(nums):\n",
    "    result = []\n",
    "    for i in nums:\n",
    "        result.append(i ** 2)\n",
    "    result.sort()\n",
    "    return result\n",
    "nums = [-4,-1,0,3,10]\n",
    "sorted_squares(nums)"
   ]
  },
  {
   "cell_type": "markdown",
   "id": "36eaa432-5e7e-4bd1-a8f2-87a6178002c2",
   "metadata": {},
   "source": [
    "## Question7"
   ]
  },
  {
   "cell_type": "code",
   "execution_count": 23,
   "id": "9f39e477-640c-499e-b56a-17db0e81fd35",
   "metadata": {},
   "outputs": [
    {
     "data": {
      "text/plain": [
       "4"
      ]
     },
     "execution_count": 23,
     "metadata": {},
     "output_type": "execute_result"
    }
   ],
   "source": [
    "def max_count(m, n, ops):\n",
    "    min_row = float('inf')\n",
    "    min_col = float('inf')\n",
    "\n",
    "    for op in ops:\n",
    "        min_row = min(min_row, op[0])\n",
    "        min_col = min(min_col, op[1])\n",
    "\n",
    "    return min_row * min_col\n",
    "m = 3\n",
    "n = 3\n",
    "ops = [[2,2],[3,3]]\n",
    "max_count(m,n,ops)"
   ]
  },
  {
   "cell_type": "markdown",
   "id": "d958b2bd-871c-4407-92ba-0cfef00c0bcf",
   "metadata": {},
   "source": [
    "## Question8"
   ]
  },
  {
   "cell_type": "code",
   "execution_count": 24,
   "id": "3e511152-18c5-4ac1-a63e-f6eb3189f839",
   "metadata": {},
   "outputs": [
    {
     "data": {
      "text/plain": [
       "[2, 3, 5, 4, 1, 7]"
      ]
     },
     "execution_count": 24,
     "metadata": {},
     "output_type": "execute_result"
    }
   ],
   "source": [
    "def new_array(nums):\n",
    "    n = len(nums) // 2\n",
    "    ptr1 = 0\n",
    "    ptr2 = n\n",
    "    result = []\n",
    "\n",
    "    for i in range(n):\n",
    "        result.append(nums[ptr1])\n",
    "        result.append(nums[ptr2])\n",
    "        ptr1 += 1\n",
    "        ptr2 += 1\n",
    "\n",
    "    return result\n",
    "nums = [2,5,1,3,4,7]\n",
    "new_array(nums)"
   ]
  },
  {
   "cell_type": "code",
   "execution_count": null,
   "id": "a9447bfa-3926-4f80-98fe-b1595f9e4355",
   "metadata": {},
   "outputs": [],
   "source": []
  }
 ],
 "metadata": {
  "kernelspec": {
   "display_name": "Python 3 (ipykernel)",
   "language": "python",
   "name": "python3"
  },
  "language_info": {
   "codemirror_mode": {
    "name": "ipython",
    "version": 3
   },
   "file_extension": ".py",
   "mimetype": "text/x-python",
   "name": "python",
   "nbconvert_exporter": "python",
   "pygments_lexer": "ipython3",
   "version": "3.10.8"
  }
 },
 "nbformat": 4,
 "nbformat_minor": 5
}
