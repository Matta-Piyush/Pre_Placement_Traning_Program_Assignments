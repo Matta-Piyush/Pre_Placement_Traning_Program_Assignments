{
 "cells": [
  {
   "cell_type": "markdown",
   "id": "448da024-c330-4e09-9887-b2507a4c010c",
   "metadata": {},
   "source": [
    "## Question1"
   ]
  },
  {
   "cell_type": "code",
   "execution_count": 1,
   "id": "379c7a13-6322-4a0c-8f78-2194cfcf10ec",
   "metadata": {},
   "outputs": [
    {
     "data": {
      "text/plain": [
       "4"
      ]
     },
     "execution_count": 1,
     "metadata": {},
     "output_type": "execute_result"
    }
   ],
   "source": [
    "nums=[1,4,3,2]\n",
    "def maxSum(nums):\n",
    "    nums.sort()\n",
    "    result=sum(nums[::2])\n",
    "    return result   \n",
    "maxSum(nums)"
   ]
  },
  {
   "cell_type": "markdown",
   "id": "5954c4b6-fc0c-49b0-9cfe-3ef4d0e37ff3",
   "metadata": {},
   "source": [
    "## Question2"
   ]
  },
  {
   "cell_type": "code",
   "execution_count": 2,
   "id": "b1efb076-b6bd-4c7f-8ec1-8cdb5a8c4bfe",
   "metadata": {},
   "outputs": [
    {
     "data": {
      "text/plain": [
       "4.0"
      ]
     },
     "execution_count": 2,
     "metadata": {},
     "output_type": "execute_result"
    }
   ],
   "source": [
    "nums=[1,1,4,5,2,2,3,9]\n",
    "def maxcandies(nums):\n",
    "    unique_candies=set(nums)\n",
    "    l=len(unique_candies)\n",
    "    max_candies=len(nums)/2\n",
    "    if max_candies==l:\n",
    "        return l\n",
    "    elif max_candies>l:\n",
    "        return l\n",
    "    else:\n",
    "        return max_candies\n",
    "maxcandies(nums)"
   ]
  },
  {
   "cell_type": "markdown",
   "id": "891a7eea-9f2c-4c8a-ad5d-ec0283fe4e24",
   "metadata": {},
   "source": [
    "## Question3"
   ]
  },
  {
   "cell_type": "code",
   "execution_count": 3,
   "id": "db6b2073-0bde-4c5d-8a3e-019b737069d2",
   "metadata": {},
   "outputs": [
    {
     "data": {
      "text/plain": [
       "6"
      ]
     },
     "execution_count": 3,
     "metadata": {},
     "output_type": "execute_result"
    }
   ],
   "source": [
    "nums=[1,2,2,5,5,6,6,8,9,9,9,9,8,2,2]\n",
    "def longest_subsequence(nums):\n",
    "    result=0\n",
    "    frequency={}\n",
    "    for num in nums:\n",
    "        frequency[num]=frequency.get(num,0)+1\n",
    "    \n",
    "    for i in frequency:\n",
    "        if (i+1) in frequency:\n",
    "            result=max(result,frequency[i]+frequency[i+1])\n",
    "    return result\n",
    "longest_subsequence(nums)"
   ]
  },
  {
   "cell_type": "markdown",
   "id": "8b8d2af3-f746-4365-a385-7b26e5359e85",
   "metadata": {},
   "source": [
    "## Question4"
   ]
  },
  {
   "cell_type": "code",
   "execution_count": 7,
   "id": "fa961f65-a539-4f7c-a0c1-e17ed9b74eba",
   "metadata": {},
   "outputs": [
    {
     "data": {
      "text/plain": [
       "False"
      ]
     },
     "execution_count": 7,
     "metadata": {},
     "output_type": "execute_result"
    }
   ],
   "source": [
    "nums=[1,0,0,0,1]\n",
    "def canPlaceFlowers(nums, n):\n",
    "        count = 0\n",
    "        if len(nums)==1:\n",
    "            if fnums[0]==0:\n",
    "                count=1\n",
    "                return count>=n\n",
    "            else:\n",
    "                return count>=n\n",
    "                return False\n",
    "        for i in range(len(nums)):\n",
    "          \n",
    "            if nums[i] == 0:\n",
    "                if i == 0 and nums[i+1] == 0:\n",
    "                    nums[i] = 1\n",
    "                    count += 1\n",
    "                    if n==count:\n",
    "                        return True\n",
    "                elif i != len(nums)-1 and nums[i-1] == 0 and nums[i+1] == 0:\n",
    "                    nums[i] = 1\n",
    "                    count += 1\n",
    "                    if n==count:\n",
    "                        return True\n",
    "                elif i == len(nums)-1 and nums[i-1] == 0:\n",
    "                    nums[i] = 1\n",
    "                    count += 1\n",
    "                    if n==count:\n",
    "                        return True\n",
    "        return count >= n\n",
    "canPlaceFlowers(nums,2)"
   ]
  },
  {
   "cell_type": "markdown",
   "id": "24341cf7-0ee0-47e2-ba49-6240a56dd4ab",
   "metadata": {},
   "source": [
    "## Question5"
   ]
  },
  {
   "cell_type": "code",
   "execution_count": 8,
   "id": "1045956c-6afa-417e-a83c-cc812e455939",
   "metadata": {},
   "outputs": [
    {
     "data": {
      "text/plain": [
       "10800"
      ]
     },
     "execution_count": 8,
     "metadata": {},
     "output_type": "execute_result"
    }
   ],
   "source": [
    "nums=[-90,-20,4,5,6]\n",
    "def max_product(nums):\n",
    "    nums.sort()\n",
    "    product1=nums[-1]*nums[-2]*nums[-3]\n",
    "    product2=nums[0]*nums[1]*nums[-1]\n",
    "    return max(product1,product2)\n",
    "max_product(nums)"
   ]
  },
  {
   "cell_type": "markdown",
   "id": "5ef2b1b3-c252-4c49-8caf-1d44cd78d910",
   "metadata": {},
   "source": [
    "## Question6"
   ]
  },
  {
   "cell_type": "code",
   "execution_count": 9,
   "id": "5fcbf974-3af2-4e78-bd0f-56e6feb287c3",
   "metadata": {},
   "outputs": [
    {
     "data": {
      "text/plain": [
       "2"
      ]
     },
     "execution_count": 9,
     "metadata": {},
     "output_type": "execute_result"
    }
   ],
   "source": [
    "## Binary Search\n",
    "nums=[4,5,7,10,15,56]\n",
    "def search(nums, target):\n",
    "    lb = 0\n",
    "    ub = len(nums) - 1\n",
    "    \n",
    "    while lb <= ub:\n",
    "        mid = lb + (ub - lb) // 2\n",
    "        \n",
    "        if nums[mid] == target:\n",
    "            return mid\n",
    "        elif nums[mid] < target:\n",
    "            lb = mid + 1\n",
    "        else:\n",
    "            ub = mid - 1\n",
    "    return -1\n",
    "search(nums,7)"
   ]
  },
  {
   "cell_type": "markdown",
   "id": "2cdaf378-f25b-44f4-88fa-b86eb319ce73",
   "metadata": {},
   "source": [
    "## Question7"
   ]
  },
  {
   "cell_type": "code",
   "execution_count": 10,
   "id": "7135034c-83fb-4876-8caa-41a7ee8b9f44",
   "metadata": {},
   "outputs": [
    {
     "data": {
      "text/plain": [
       "True"
      ]
     },
     "execution_count": 10,
     "metadata": {},
     "output_type": "execute_result"
    }
   ],
   "source": [
    "def isMonotonic(nums):\n",
    "    isIncreasing = all(nums[i] <= nums[i + 1] for i in range(len(nums) - 1))\n",
    "    isDecreasing = all(nums[i] >= nums[i + 1] for i in range(len(nums) - 1))\n",
    "    \n",
    "    return isIncreasing or isDecreasing\n",
    "isMonotonic(nums)"
   ]
  },
  {
   "cell_type": "markdown",
   "id": "9fc3149b-e3eb-47cc-b062-0123b5a4b39b",
   "metadata": {},
   "source": [
    "## Question8"
   ]
  },
  {
   "cell_type": "code",
   "execution_count": 11,
   "id": "43b37805-0371-491e-8734-320d5680f852",
   "metadata": {},
   "outputs": [
    {
     "data": {
      "text/plain": [
       "1"
      ]
     },
     "execution_count": 11,
     "metadata": {},
     "output_type": "execute_result"
    }
   ],
   "source": [
    "nums=[2,3,1,5,6,4]\n",
    "def min_score(nums,k):\n",
    "    min_num = min(nums)\n",
    "    max_num = max(nums)\n",
    "    min_num += k\n",
    "    max_num -= k\n",
    "    if min_num >= max_num:\n",
    "        return 0\n",
    "    else:\n",
    "        return max_num - min_num\n",
    "min_score(nums,2)"
   ]
  },
  {
   "cell_type": "code",
   "execution_count": null,
   "id": "5d932109-e9f2-4fe7-b431-85290198633e",
   "metadata": {},
   "outputs": [],
   "source": []
  }
 ],
 "metadata": {
  "kernelspec": {
   "display_name": "Python 3 (ipykernel)",
   "language": "python",
   "name": "python3"
  },
  "language_info": {
   "codemirror_mode": {
    "name": "ipython",
    "version": 3
   },
   "file_extension": ".py",
   "mimetype": "text/x-python",
   "name": "python",
   "nbconvert_exporter": "python",
   "pygments_lexer": "ipython3",
   "version": "3.10.8"
  }
 },
 "nbformat": 4,
 "nbformat_minor": 5
}
