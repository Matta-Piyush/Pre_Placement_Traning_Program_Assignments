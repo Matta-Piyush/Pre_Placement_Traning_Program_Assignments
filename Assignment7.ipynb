{
 "cells": [
  {
   "cell_type": "markdown",
   "id": "69824384-e3c1-4584-9766-a04a0f819832",
   "metadata": {},
   "source": [
    "## Question1"
   ]
  },
  {
   "cell_type": "code",
   "execution_count": 1,
   "id": "9e63ca3e-b1ec-424c-be93-32dfb6610d91",
   "metadata": {},
   "outputs": [
    {
     "data": {
      "text/plain": [
       "True"
      ]
     },
     "execution_count": 1,
     "metadata": {},
     "output_type": "execute_result"
    }
   ],
   "source": [
    "def check_isomorphic(s, t):\n",
    "    if len(s) != len(t):\n",
    "        return False\n",
    "    \n",
    "    map1 = {}\n",
    "    map2 = {}\n",
    "    \n",
    "    for i in range(len(s)):\n",
    "        if s[i] in map1:\n",
    "            if map1[s[i]] != t[i]:\n",
    "                return False\n",
    "        else:\n",
    "            map1[s[i]] = t[i]\n",
    "        \n",
    "        if t[i] in map2:\n",
    "            if map2[t[i]] != s[i]:\n",
    "                return False\n",
    "        else:\n",
    "            map2[t[i]] = s[i]\n",
    "    \n",
    "    return True\n",
    "s = \"egg\"\n",
    "t = \"add\"\n",
    "\n",
    "check_isomorphic(s,t)"
   ]
  },
  {
   "cell_type": "markdown",
   "id": "edb1d461-cb73-4312-b530-2839e70a8b19",
   "metadata": {},
   "source": [
    "## Question2"
   ]
  },
  {
   "cell_type": "code",
   "execution_count": 2,
   "id": "f16cc384-c85a-4161-b4df-1277b08e0689",
   "metadata": {},
   "outputs": [
    {
     "data": {
      "text/plain": [
       "True"
      ]
     },
     "execution_count": 2,
     "metadata": {},
     "output_type": "execute_result"
    }
   ],
   "source": [
    "def is_strobogrammatic(num):\n",
    "    left, right = 0, len(num) - 1\n",
    "    map = {'0': '0', '1': '1', '6': '9', '8': '8', '9': '6'}\n",
    "    \n",
    "    while left <= right:\n",
    "        if num[left] not in map or map[num[left]] != num[right]:\n",
    "            return False\n",
    "        left += 1\n",
    "        right -= 1\n",
    "    \n",
    "    return True\n",
    "num = \"69\"\n",
    "is_strobogrammatic(num)"
   ]
  },
  {
   "cell_type": "markdown",
   "id": "f24d0828-e88f-4aa3-93d6-a8e01743ce21",
   "metadata": {},
   "source": [
    "## Question3"
   ]
  },
  {
   "cell_type": "code",
   "execution_count": 3,
   "id": "b99583be-d099-4e3c-b86f-f85ed9afac2c",
   "metadata": {},
   "outputs": [
    {
     "data": {
      "text/plain": [
       "'134'"
      ]
     },
     "execution_count": 3,
     "metadata": {},
     "output_type": "execute_result"
    }
   ],
   "source": [
    "def add_strings(num1, num2):\n",
    "    p1, p2 = len(num1) - 1, len(num2) - 1\n",
    "    carry = 0\n",
    "    sum = \"\"\n",
    "\n",
    "    while p1 >= 0 or p2 >= 0:\n",
    "        if p1>=0:\n",
    "            digit1=int(num1[p1])\n",
    "        else:\n",
    "            digit1=0\n",
    "        if p2>=0:\n",
    "            digit2=int(num2[p2])\n",
    "        else:\n",
    "            digit2=0   \n",
    "        total = digit1 + digit2 + carry\n",
    "        current_digit = total % 10\n",
    "        carry = total // 10\n",
    "        sum = str(current_digit) + sum\n",
    "        p1 -= 1\n",
    "        p2 -= 1\n",
    "\n",
    "    if carry:\n",
    "        sum = str(carry) + sum\n",
    "\n",
    "    return sum\n",
    "num1 = \"11\"\n",
    "num2 = \"123\"\n",
    "add_strings(num1,num2)"
   ]
  },
  {
   "cell_type": "markdown",
   "id": "54ed6ba5-35c8-4aba-8694-0b4238e85b3c",
   "metadata": {},
   "source": [
    "## Question4"
   ]
  },
  {
   "cell_type": "code",
   "execution_count": 4,
   "id": "efc66ab1-d2bc-4d3d-aa1f-bcc37f8fb4c3",
   "metadata": {},
   "outputs": [
    {
     "data": {
      "text/plain": [
       "\"s'teL ekat edoCteeL tsetnoc\""
      ]
     },
     "execution_count": 4,
     "metadata": {},
     "output_type": "execute_result"
    }
   ],
   "source": [
    "def reverseWords(s):\n",
    "    words = s.split(' ') \n",
    "    reversed_words = [word[::-1] for word in words]  \n",
    "    return ' '.join(reversed_words)  \n",
    "\n",
    "reverseWords(\"Let's take LeetCode contest\")"
   ]
  },
  {
   "cell_type": "markdown",
   "id": "9c2aaeae-113e-4bb3-b323-7a45bb46c97a",
   "metadata": {},
   "source": [
    "## Question5"
   ]
  },
  {
   "cell_type": "code",
   "execution_count": 5,
   "id": "f2e73996-4317-48ad-b0cb-7738f99e61b9",
   "metadata": {},
   "outputs": [
    {
     "name": "stdout",
     "output_type": "stream",
     "text": [
      "['ba', 'cd']\n",
      "['ba', 'cd', 'fe', 'gh']\n",
      "['ba', 'cd', 'fe', 'gh', 'ji', '']\n"
     ]
    },
    {
     "data": {
      "text/plain": [
       "'bacdfeghji'"
      ]
     },
     "execution_count": 5,
     "metadata": {},
     "output_type": "execute_result"
    }
   ],
   "source": [
    "def reverseStr(s, k):\n",
    "    result = []\n",
    "    for i in range(0, len(s), 2 * k):\n",
    "        # Reverse the first k characters\n",
    "        result.append(s[i:i+k][::-1])\n",
    "        # Append the remaining characters\n",
    "        result.append(s[i+k:i+2*k])\n",
    "        print(result)\n",
    "    return ''.join(result)\n",
    "reverseStr('abcdefghij',2)"
   ]
  },
  {
   "cell_type": "markdown",
   "id": "74f0df52-4019-4223-926e-0c2b392fcb1a",
   "metadata": {},
   "source": [
    "## Question6"
   ]
  },
  {
   "cell_type": "code",
   "execution_count": 6,
   "id": "1eec9184-679b-427d-8a22-1c60d30d73ed",
   "metadata": {},
   "outputs": [
    {
     "data": {
      "text/plain": [
       "True"
      ]
     },
     "execution_count": 6,
     "metadata": {},
     "output_type": "execute_result"
    }
   ],
   "source": [
    "def is_goal_in_string(s, goal):\n",
    "    if len(s) != len(goal):\n",
    "        return False\n",
    "\n",
    "    concat = s + s\n",
    "    if goal in concat:\n",
    "        return True\n",
    "    else:\n",
    "        return False\n",
    "s = \"abcde\"\n",
    "goal = \"cdeab\"\n",
    "is_goal_in_string(s,goal)"
   ]
  },
  {
   "cell_type": "markdown",
   "id": "94ec7bd0-d3f9-44ed-825c-0e2ee31373c0",
   "metadata": {},
   "source": [
    "## Question7"
   ]
  },
  {
   "cell_type": "code",
   "execution_count": 7,
   "id": "6c99269e-d550-43d2-abc2-6db70d233023",
   "metadata": {},
   "outputs": [
    {
     "data": {
      "text/plain": [
       "True"
      ]
     },
     "execution_count": 7,
     "metadata": {},
     "output_type": "execute_result"
    }
   ],
   "source": [
    "def stack_data_structure(s):\n",
    "    stack = []\n",
    "    for i in s:\n",
    "        if i != '#':\n",
    "            stack.append(i)\n",
    "        else:\n",
    "            stack.pop()\n",
    "    return ''.join(stack)\n",
    "\n",
    "\n",
    "def Compare(s, t):\n",
    "    return stack_data_structure(s) == stack_data_structure(t)\n",
    "\n",
    "s = \"ab#c\"\n",
    "t = \"ad#c\"\n",
    "Compare(s,t)\n"
   ]
  },
  {
   "cell_type": "markdown",
   "id": "0309a6fd-1a5b-4daf-bd1a-30b64c0b0eb4",
   "metadata": {},
   "source": [
    "## Question8"
   ]
  },
  {
   "cell_type": "code",
   "execution_count": 8,
   "id": "3fb36b1f-dc48-4d65-b374-be1016ac0fbc",
   "metadata": {},
   "outputs": [
    {
     "data": {
      "text/plain": [
       "True"
      ]
     },
     "execution_count": 8,
     "metadata": {},
     "output_type": "execute_result"
    }
   ],
   "source": [
    "def checkStraightLine(coordinates):\n",
    "    if len(coordinates) <= 2:\n",
    "        return True\n",
    "\n",
    "    x1, y1 = coordinates[0]\n",
    "    x2, y2 = coordinates[1]\n",
    "    if x2 - x1 == 0:\n",
    "        slope = float('inf')\n",
    "    else:\n",
    "        slope = (y2 - y1) / (x2 - x1)\n",
    "\n",
    "    for i in range(2, len(coordinates)):\n",
    "        x1, y1 = x2, y2\n",
    "        x2, y2 = coordinates[i]\n",
    "        if x2 - x1 == 0:\n",
    "            curr_slope = float('inf')\n",
    "        else:\n",
    "            curr_slope = (y2 - y1) / (x2 - x1)\n",
    "\n",
    "        if curr_slope != slope:\n",
    "            return False\n",
    "\n",
    "    return True\n",
    "coordinates = [[1,2],[2,3],[3,4],[4,5],[5,6],[6,7]]\n",
    "checkStraightLine(coordinates)\n"
   ]
  },
  {
   "cell_type": "code",
   "execution_count": null,
   "id": "ead99707-2981-465d-922b-43d676a87d59",
   "metadata": {},
   "outputs": [],
   "source": []
  }
 ],
 "metadata": {
  "kernelspec": {
   "display_name": "Python 3 (ipykernel)",
   "language": "python",
   "name": "python3"
  },
  "language_info": {
   "codemirror_mode": {
    "name": "ipython",
    "version": 3
   },
   "file_extension": ".py",
   "mimetype": "text/x-python",
   "name": "python",
   "nbconvert_exporter": "python",
   "pygments_lexer": "ipython3",
   "version": "3.10.8"
  }
 },
 "nbformat": 4,
 "nbformat_minor": 5
}
