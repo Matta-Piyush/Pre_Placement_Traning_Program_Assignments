{
 "cells": [
  {
   "cell_type": "markdown",
   "id": "965dd38b-e5d5-4e96-9d84-ca1be80328d9",
   "metadata": {},
   "source": [
    "## Question1"
   ]
  },
  {
   "cell_type": "code",
   "execution_count": 2,
   "id": "9453a017-b2f6-4296-bd32-1c413ae6aa95",
   "metadata": {},
   "outputs": [
    {
     "data": {
      "text/plain": [
       "[1, 0]"
      ]
     },
     "execution_count": 2,
     "metadata": {},
     "output_type": "execute_result"
    }
   ],
   "source": [
    "def indexes(arr,target):\n",
    "    complement_dict={}               ## Empty Dictionary\n",
    "    for i,num in enumerate(arr):     \n",
    "        complement=target-num\n",
    "        if complement in complement_dict:          ## checking whether the complement is present in the dictionary or not as a key\n",
    "            return [i,complement_dict[complement]]  ## answer can be return in any order\n",
    "        complement_dict[num]=i\n",
    "    return []\n",
    "\n",
    "arr=[2,7,11,15]\n",
    "target=9\n",
    "indexes(arr,target"
   ]
  },
  {
   "cell_type": "markdown",
   "id": "745c6799-6d18-4e87-b524-c3616e9ae450",
   "metadata": {},
   "source": [
    "## Question2"
   ]
  },
  {
   "cell_type": "code",
   "execution_count": 4,
   "id": "ab3c1017-5a4e-4621-9aa0-7ad004943f7c",
   "metadata": {},
   "outputs": [
    {
     "name": "stdout",
     "output_type": "stream",
     "text": [
      "6\n",
      "[5, 7, 8, 4, 5, 56, 5, 3, 56]\n"
     ]
    }
   ],
   "source": [
    "def remove(nums,val):\n",
    "    pos=0\n",
    "    for i in range(len(nums)):\n",
    "        if(nums[i]==val):\n",
    "            pass\n",
    "        else:\n",
    "            nums[pos]=nums[i]\n",
    "            pos+=1\n",
    "    return pos\n",
    "\n",
    "arr=[5,3,7,8,3,4,5,3,56]\n",
    "k=remove(arr,3)\n",
    "print(k)\n",
    "print(arr)"
   ]
  },
  {
   "cell_type": "markdown",
   "id": "e0c686f7-6a8c-4665-a07c-405259c2c051",
   "metadata": {},
   "source": [
    "## Question3"
   ]
  },
  {
   "cell_type": "code",
   "execution_count": 5,
   "id": "8888d833-c94a-4dab-9c3a-d6156566526d",
   "metadata": {},
   "outputs": [
    {
     "data": {
      "text/plain": [
       "2"
      ]
     },
     "execution_count": 5,
     "metadata": {},
     "output_type": "execute_result"
    }
   ],
   "source": [
    "def findIndex(nums,target):\n",
    "    lb=0\n",
    "    ub=len(nums)-1\n",
    "    while(lb<=ub):                ## Using Binary Search Algorithm\n",
    "        mid=lb+(ub-lb)//2\n",
    "        if(nums[mid]==target):\n",
    "            return mid\n",
    "        elif(nums[mid]<target):\n",
    "             lb=mid+1\n",
    "        else:\n",
    "             ub=mid-1\n",
    "    return lb\n",
    "\n",
    "arr=[1,3,5,6]           \n",
    "findIndex(arr,5)             ## 5 is present at index 2 of arr"
   ]
  },
  {
   "cell_type": "markdown",
   "id": "c52942f5-9da3-4995-9a31-f525420f9d60",
   "metadata": {},
   "source": [
    "## Question4"
   ]
  },
  {
   "cell_type": "code",
   "execution_count": 6,
   "id": "51ebceaa-bbce-477b-bbfd-ed6ee55e4a0d",
   "metadata": {},
   "outputs": [
    {
     "name": "stdout",
     "output_type": "stream",
     "text": [
      "[1, 2, 4]\n",
      "[1, 0, 0, 0]\n"
     ]
    }
   ],
   "source": [
    "def increment(digits):\n",
    "    n=len(digits)\n",
    "    for i in range(n-1,-1,-1):      ## here we are starting our loop from last index of the array \n",
    "        digits[i]+=1                ## incrementing the last digit by 1\n",
    "        if digits[i]==10:           ## if after incrementing the value becomes 10 then we need to make it as 0 as a particular index can hold only 1 digit\n",
    "            digits[i]=0\n",
    "        else:\n",
    "            return digits\n",
    "    digits.insert(0,1)\n",
    "    return digits\n",
    "\n",
    "arr1=[1,2,3]      \n",
    "val1=increment(arr1)                 ## After incrementing the value becomes 1,2,4\n",
    "\n",
    "arr2=[9,9,9]\n",
    "val2=increment(arr2)                ## here after adding one the value becomes 1,0,0,0\n",
    "\n",
    "print(val1)\n",
    "print(val2)"
   ]
  },
  {
   "cell_type": "markdown",
   "id": "32557213-9649-4a47-bdb1-c236dfe74212",
   "metadata": {},
   "source": [
    "## Question5"
   ]
  },
  {
   "cell_type": "code",
   "execution_count": 8,
   "id": "5f4f7a56-a1d2-4f2d-a287-b7fc14a1d1bf",
   "metadata": {},
   "outputs": [
    {
     "name": "stdout",
     "output_type": "stream",
     "text": [
      "[1, 2, 2, 3, 5, 6]\n"
     ]
    }
   ],
   "source": [
    "def merge(nums1,nums2,m,n):\n",
    "    curr=m+n-1\n",
    "    p1=m-1\n",
    "    p2=n-1\n",
    "    while(p1>=0 and p2>=0):\n",
    "        if(nums1[p1]>nums2[p2]):             \n",
    "            nums1[curr]=nums1[p1]\n",
    "            p1-=1\n",
    "        else:\n",
    "            nums1[curr]=nums2[p2]\n",
    "            p2-=1\n",
    "        curr-=1\n",
    "    \n",
    "    while(p2>=0):\n",
    "        nums1[curr]=nums2[p2]\n",
    "        curr-=1\n",
    "        p2-=1\n",
    "        \n",
    "nums1=[1,2,3,0,0,0]\n",
    "m=3\n",
    "nums2=[2,5,6]\n",
    "n=3\n",
    "\n",
    "merge(nums1,nums2,m,n)\n",
    "print(nums1)"
   ]
  },
  {
   "cell_type": "markdown",
   "id": "b2633bdd-f9bb-446c-8d10-33a3489b8a56",
   "metadata": {},
   "source": [
    "## Question6"
   ]
  },
  {
   "cell_type": "code",
   "execution_count": 9,
   "id": "7f66ee9d-f3b5-4bb8-9648-d05f69c6184e",
   "metadata": {},
   "outputs": [
    {
     "data": {
      "text/plain": [
       "True"
      ]
     },
     "execution_count": 9,
     "metadata": {},
     "output_type": "execute_result"
    }
   ],
   "source": [
    "def isRepeat(nums):\n",
    "    l=set()                ## set is used to store the unique values --> here we can also use list insted of set\n",
    "    for i in nums:\n",
    "        if i in l:         ## checking whether the value is present in set or not\n",
    "            return True    ## if the value is present in the set then we are sure that the value is being repeated in the array\n",
    "        l.add(i)\n",
    "    return False\n",
    "nums=[1,2,3,1]\n",
    "isRepeat(nums)"
   ]
  },
  {
   "cell_type": "markdown",
   "id": "b9fb7589-adb0-41a1-9e12-b3d299fac82e",
   "metadata": {},
   "source": [
    "## Question7"
   ]
  },
  {
   "cell_type": "code",
   "execution_count": 10,
   "id": "5c595609-019f-40ba-bdfd-6fbf2767c6fc",
   "metadata": {},
   "outputs": [
    {
     "name": "stdout",
     "output_type": "stream",
     "text": [
      "[1, 3, 12, 0, 0]\n"
     ]
    }
   ],
   "source": [
    "def moveZeros(nums):\n",
    "    curr=0           \n",
    "    pos=0\n",
    "    count=0\n",
    "    while(curr<len(nums)):\n",
    "        if(nums[curr]==0):                             ## checking whether the value at current pointer is 0 or not\n",
    "            count+=1                                   #3 if yes, then we are incementing the value of count\n",
    "        else:\n",
    "            nums[pos],nums[curr]=nums[curr],nums[pos]     ## swapping\n",
    "            pos+=1\n",
    "        curr+=1\n",
    "\n",
    "    for i in range(len(nums)-count,len(nums)):\n",
    "        nums[i]=0\n",
    "arr=[0,1,0,3,12]\n",
    "moveZeros(arr)\n",
    "\n",
    "print(arr)"
   ]
  },
  {
   "cell_type": "markdown",
   "id": "045c1bd2-4b82-40c4-9548-c671c95bd2ce",
   "metadata": {},
   "source": [
    "## Question8"
   ]
  },
  {
   "cell_type": "code",
   "execution_count": 11,
   "id": "336230d2-1723-449c-82a1-3f0643748691",
   "metadata": {},
   "outputs": [
    {
     "data": {
      "text/plain": [
       "[2, 3]"
      ]
     },
     "execution_count": 11,
     "metadata": {},
     "output_type": "execute_result"
    }
   ],
   "source": [
    "def check_Duplicate_Missing(nums):\n",
    "    n=len(nums)\n",
    "    unique_numbers=set(nums)                             ## We have taken a set so that only unique numbers will get stored in it\n",
    "    duplicate=sum(nums)-sum(unique_numbers)\n",
    "    missing=((n*(n+1))//2)-sum(unique_numbers)            ## As we know the sum of n natural numbers is n(n+1)/2\n",
    "    return [duplicate,missing]\n",
    "\n",
    "nums = [1,2,2,4]\n",
    "check_Duplicate_Missing(nums)\n",
    "    "
   ]
  }
 ],
 "metadata": {
  "kernelspec": {
   "display_name": "Python 3 (ipykernel)",
   "language": "python",
   "name": "python3"
  },
  "language_info": {
   "codemirror_mode": {
    "name": "ipython",
    "version": 3
   },
   "file_extension": ".py",
   "mimetype": "text/x-python",
   "name": "python",
   "nbconvert_exporter": "python",
   "pygments_lexer": "ipython3",
   "version": "3.10.8"
  }
 },
 "nbformat": 4,
 "nbformat_minor": 5
}
