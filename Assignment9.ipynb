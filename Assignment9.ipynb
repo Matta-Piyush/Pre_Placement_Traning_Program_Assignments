{
 "cells": [
  {
   "cell_type": "code",
   "execution_count": 45,
   "id": "fc73ff53-97e9-4b6b-9f6a-66c015431c5e",
   "metadata": {},
   "outputs": [
    {
     "data": {
      "text/plain": [
       "'hsuyiP'"
      ]
     },
     "execution_count": 45,
     "metadata": {},
     "output_type": "execute_result"
    }
   ],
   "source": [
    "def reverseStr(s):\n",
    "    return s[::-1]\n",
    "reverseStr('Piyush')"
   ]
  },
  {
   "cell_type": "code",
   "execution_count": 46,
   "id": "4ad8480f-650a-4795-ab55-0b372e3d152e",
   "metadata": {},
   "outputs": [
    {
     "data": {
      "text/plain": [
       "False"
      ]
     },
     "execution_count": 46,
     "metadata": {},
     "output_type": "execute_result"
    }
   ],
   "source": [
    "def checkPalindrome(s):\n",
    "    s = s.replace(\" \", \"\").lower()\n",
    "\n",
    "    return s == s[::-1]\n",
    "checkPalindrome('Hello')"
   ]
  },
  {
   "cell_type": "code",
   "execution_count": 47,
   "id": "40a90441-2aac-4908-92a7-1c4829e80d3e",
   "metadata": {},
   "outputs": [
    {
     "data": {
      "text/plain": [
       "10"
      ]
     },
     "execution_count": 47,
     "metadata": {},
     "output_type": "execute_result"
    }
   ],
   "source": [
    "def largest(l):\n",
    "    \n",
    "    if len(l)!=0:\n",
    "        max=l[0]\n",
    "\n",
    "        for i in range(1,len(l)):\n",
    "            if l[i]>max:\n",
    "                max=l[i]\n",
    "        return max \n",
    "    return None\n",
    "largest([5,5,8,-4,10,9])"
   ]
  },
  {
   "cell_type": "code",
   "execution_count": 48,
   "id": "84cc04a4-ea43-4b94-9af2-ef692229e9d8",
   "metadata": {},
   "outputs": [
    {
     "name": "stdout",
     "output_type": "stream",
     "text": [
      "Frequency of every element {6: 1, 4: 2, 5: 2, 7: 2, -1: 1, -4: 1, 2: 1}\n"
     ]
    }
   ],
   "source": [
    "def count(l):\n",
    "    map = {}\n",
    "    \n",
    "    for i in l:\n",
    "        if i in map:\n",
    "            map[i] += 1\n",
    "        else:\n",
    "            map[i] = 1\n",
    "    \n",
    "    return map\n",
    "\n",
    "numbers = [6,4,4,5,7,-1,-4,7,2,5]\n",
    "c = count(numbers)\n",
    "print(\"Frequency of every element\", c)\n"
   ]
  },
  {
   "cell_type": "code",
   "execution_count": 18,
   "id": "1aace707-8a9d-48aa-bf68-82dce5911834",
   "metadata": {},
   "outputs": [
    {
     "data": {
      "text/plain": [
       "44"
      ]
     },
     "execution_count": 18,
     "metadata": {},
     "output_type": "execute_result"
    }
   ],
   "source": [
    "def secondlargest(l):\n",
    "    if len(l) < 2:\n",
    "        return None  \n",
    "    \n",
    "    largest = max(l[0], l[1])\n",
    "    second_largest = min(l[0], l[1])\n",
    "    \n",
    "    for i in range(2, len(l)):\n",
    "        if l[i] > largest:\n",
    "            second_largest = largest\n",
    "            largest = l[i]\n",
    "        elif l[i] > second_largest:\n",
    "            second_largest = l[i]\n",
    "    \n",
    "    return second_largest\n",
    "\n",
    "numbers = [15,34,2,22,56,44,34]\n",
    "secondlargest(numbers)\n",
    "\n"
   ]
  },
  {
   "cell_type": "code",
   "execution_count": 19,
   "id": "ce72a979-5ecf-4164-b89a-e28ac30ec606",
   "metadata": {},
   "outputs": [
    {
     "data": {
      "text/plain": [
       "[34, 67, 4, 5]"
      ]
     },
     "execution_count": 19,
     "metadata": {},
     "output_type": "execute_result"
    }
   ],
   "source": [
    "def remove_duplicates(l):\n",
    "    return list(set(l))\n",
    "\n",
    "numbers = [5,67,4,5,4,34,4,34]\n",
    "remove_duplicates(numbers)\n"
   ]
  },
  {
   "cell_type": "code",
   "execution_count": 20,
   "id": "7bab48d6-2886-4bf4-96fd-6d7635c61989",
   "metadata": {},
   "outputs": [
    {
     "data": {
      "text/plain": [
       "120"
      ]
     },
     "execution_count": 20,
     "metadata": {},
     "output_type": "execute_result"
    }
   ],
   "source": [
    "def factorial(n):\n",
    "    if n < 0:\n",
    "        return None  \n",
    "    elif n == 0:\n",
    "        return 1  \n",
    "    else:\n",
    "        result = 1\n",
    "        for i in range(1, n + 1):\n",
    "            result *= i\n",
    "        return result\n",
    "number = 5\n",
    "factorial(number)\n"
   ]
  },
  {
   "cell_type": "code",
   "execution_count": 21,
   "id": "bf4c7ecd-e72e-4ab7-bb09-b757dc76c82c",
   "metadata": {},
   "outputs": [
    {
     "data": {
      "text/plain": [
       "False"
      ]
     },
     "execution_count": 21,
     "metadata": {},
     "output_type": "execute_result"
    }
   ],
   "source": [
    "def is_prime(num):\n",
    "    if num < 2:\n",
    "        return False \n",
    "    \n",
    "    for i in range(2, int(num ** 0.5) + 1):\n",
    "        if num % i == 0:\n",
    "            return False \n",
    "    \n",
    "    return True\n",
    "\n",
    "\n",
    "is_prime(25)\n"
   ]
  },
  {
   "cell_type": "code",
   "execution_count": 23,
   "id": "0ad2c282-174f-4a34-af60-b0c16aff8cec",
   "metadata": {},
   "outputs": [
    {
     "data": {
      "text/plain": [
       "[4, 5, 5, 6, 63, 64]"
      ]
     },
     "execution_count": 23,
     "metadata": {},
     "output_type": "execute_result"
    }
   ],
   "source": [
    "def sort_in_ascending(lst):\n",
    "    for i in range(len(lst)):\n",
    "        for j in range(i + 1, len(lst)):\n",
    "            if lst[i] > lst[j]:\n",
    "                lst[i], lst[j] = lst[j], lst[i]    ## swap\n",
    "    return lst\n",
    "\n",
    "sort_in_ascending([5,4,64,63,5,6])\n"
   ]
  },
  {
   "cell_type": "code",
   "execution_count": 24,
   "id": "8caea4c1-72aa-4b65-8f66-4cc8bb36a444",
   "metadata": {},
   "outputs": [
    {
     "data": {
      "text/plain": [
       "15"
      ]
     },
     "execution_count": 24,
     "metadata": {},
     "output_type": "execute_result"
    }
   ],
   "source": [
    "def sum_lst(l):\n",
    "    res=0\n",
    "    for i in l:\n",
    "        res+=i\n",
    "    return res\n",
    "sum_lst([4,3,9,0,-5,4])"
   ]
  },
  {
   "cell_type": "code",
   "execution_count": 26,
   "id": "188ad722-d492-4f11-bb96-7e69a1989a6b",
   "metadata": {},
   "outputs": [
    {
     "data": {
      "text/plain": [
       "[10, 4]"
      ]
     },
     "execution_count": 26,
     "metadata": {},
     "output_type": "execute_result"
    }
   ],
   "source": [
    "def common_elements(list1, list2):\n",
    "    common_elements = []\n",
    "    for i in list1:\n",
    "        if i in list2:\n",
    "            common_elements.append(i)\n",
    "    return common_elements\n",
    "\n",
    "list1 = [1, 2, 10, 4, 5]\n",
    "list2 = [4, 10, 6, 7, 8]\n",
    "common_elements(list1, list2)\n",
    "\n"
   ]
  },
  {
   "cell_type": "code",
   "execution_count": 28,
   "id": "e805fc03-0683-4a0f-a54b-ce8017c6f4cc",
   "metadata": {},
   "outputs": [
    {
     "data": {
      "text/plain": [
       "False"
      ]
     },
     "execution_count": 28,
     "metadata": {},
     "output_type": "execute_result"
    }
   ],
   "source": [
    "def is_anagram(str1, str2):\n",
    "    string1 = str1.lower().replace(\" \", \"\")\n",
    "    string2 = str2.lower().replace(\" \", \"\")\n",
    "    \n",
    "    return sorted(string1) == sorted(string2)\n",
    "\n",
    "word1 = \"Happy\"\n",
    "word2 = \"Delhi\"\n",
    "is_anagram(word1,word2)\n"
   ]
  },
  {
   "cell_type": "code",
   "execution_count": 33,
   "id": "4983199c-d13a-4579-aac1-ee77ce11153f",
   "metadata": {},
   "outputs": [
    {
     "data": {
      "text/plain": [
       "['hi', 'ih']"
      ]
     },
     "execution_count": 33,
     "metadata": {},
     "output_type": "execute_result"
    }
   ],
   "source": [
    "def generate_permutations(s):\n",
    "    if len(s) == 1:\n",
    "        return [s]\n",
    "\n",
    "    permutations = []\n",
    "    for i in range(len(s)):\n",
    "        first_char = s[i]\n",
    "        remaining_chars = s[:i] + s[i+1:]\n",
    "        sub_permutations = generate_permutations(remaining_chars)\n",
    "\n",
    "        for sub_permutation in sub_permutations:\n",
    "            permutations.append(first_char + sub_permutation)\n",
    "\n",
    "    return permutations\n",
    "\n",
    "\n",
    "word = \"hi\"\n",
    "generate_permutations(word)\n",
    "\n",
    "\n"
   ]
  },
  {
   "cell_type": "code",
   "execution_count": 36,
   "id": "b3e03239-c514-4011-bcfd-45a04ff71d37",
   "metadata": {},
   "outputs": [
    {
     "data": {
      "text/plain": [
       "[0, 1, 1, 2, 3, 5, 8, 13]"
      ]
     },
     "execution_count": 36,
     "metadata": {},
     "output_type": "execute_result"
    }
   ],
   "source": [
    "def fibonacci(n):\n",
    "    if n <= 0:\n",
    "        return []   \n",
    "    elif n == 1:\n",
    "        return [0]  \n",
    "    elif n == 2:\n",
    "        return [0, 1]  \n",
    "\n",
    "    sequence = [0, 1]  \n",
    "\n",
    "    while len(sequence) < n:\n",
    "        next_number = sequence[-1] + sequence[-2] \n",
    "        sequence.append(next_number)\n",
    "\n",
    "    return sequence\n",
    "\n",
    "fibonacci(8)\n"
   ]
  },
  {
   "cell_type": "code",
   "execution_count": 38,
   "id": "199b692f-95c1-49e5-8b15-5f2e994bfbe6",
   "metadata": {},
   "outputs": [
    {
     "data": {
      "text/plain": [
       "4"
      ]
     },
     "execution_count": 38,
     "metadata": {},
     "output_type": "execute_result"
    }
   ],
   "source": [
    "def median(numbers):\n",
    "    numbers.sort() \n",
    "    \n",
    "    n = len(numbers)\n",
    "    if n % 2 == 0:\n",
    "        mid1 = numbers[(n // 2) - 1]\n",
    "        mid2 = numbers[n // 2]\n",
    "        median = (mid1 + mid2) / 2\n",
    "    else:\n",
    "        median = numbers[n // 2]\n",
    "    \n",
    "    return median\n",
    "median([4,5,3,5,3])\n"
   ]
  },
  {
   "cell_type": "code",
   "execution_count": 39,
   "id": "cec4c77f-7992-48af-955f-58bd9b8e9233",
   "metadata": {},
   "outputs": [
    {
     "data": {
      "text/plain": [
       "True"
      ]
     },
     "execution_count": 39,
     "metadata": {},
     "output_type": "execute_result"
    }
   ],
   "source": [
    "def is_sorted(lst):\n",
    "    for i in range(1, len(lst)):\n",
    "        if lst[i] < lst[i-1]:\n",
    "            return False\n",
    "    return True\n",
    "\n",
    "numbers1 = [1, 2, 3, 4, 5]\n",
    "is_sorted(numbers1)\n",
    "\n"
   ]
  },
  {
   "cell_type": "code",
   "execution_count": 41,
   "id": "e2b864ef-aee3-4583-ba53-f2bda01dc8a5",
   "metadata": {},
   "outputs": [
    {
     "data": {
      "text/plain": [
       "[6, 10]"
      ]
     },
     "execution_count": 41,
     "metadata": {},
     "output_type": "execute_result"
    }
   ],
   "source": [
    "def intersection(l1, l2):\n",
    "    intersection = []\n",
    "    for element in l1:\n",
    "        if element in l2 and element not in intersection:\n",
    "            intersection.append(element)\n",
    "    return intersection\n",
    "\n",
    "list1 = [5,8,3,6,10]\n",
    "list2 = [10,6,12,24,9]\n",
    "intersection(list1, list2)\n",
    "\n"
   ]
  },
  {
   "cell_type": "code",
   "execution_count": 43,
   "id": "694326ef-0c58-4dba-b685-a8577221eacd",
   "metadata": {},
   "outputs": [
    {
     "data": {
      "text/plain": [
       "28"
      ]
     },
     "execution_count": 43,
     "metadata": {},
     "output_type": "execute_result"
    }
   ],
   "source": [
    "def max_subarray_sum(lst):\n",
    "    if len(lst) == 0:\n",
    "        return 0\n",
    "    \n",
    "    max_sum = lst[0]  \n",
    "    curr_sum = lst[0] \n",
    "    \n",
    "    for i in range(1, len(lst)):\n",
    "        curr_sum = max(lst[i], curr_sum + lst[i])\n",
    "        max_sum = max(max_sum, curr_sum)\n",
    "    \n",
    "    return max_sum\n",
    "\n",
    "numbers = [8,4,-4,6,4,10]\n",
    "max_subarray_sum(numbers)\n"
   ]
  },
  {
   "cell_type": "code",
   "execution_count": 45,
   "id": "b51a895c-c400-43ea-8d00-224b8bc60510",
   "metadata": {},
   "outputs": [
    {
     "data": {
      "text/plain": [
       "'Pysh'"
      ]
     },
     "execution_count": 45,
     "metadata": {},
     "output_type": "execute_result"
    }
   ],
   "source": [
    "def remove_vowels(s):\n",
    "    vowels = \"aeiouAEIOU\"\n",
    "    res = \"\"\n",
    "    \n",
    "    for i in s:\n",
    "        if i not in vowels:\n",
    "            res+= i\n",
    "    \n",
    "    return res\n",
    "\n",
    "\n",
    "remove_vowels('Piyush')"
   ]
  },
  {
   "cell_type": "code",
   "execution_count": 47,
   "id": "99b5bf7e-0b0e-442c-9e1f-ef0da1bc8300",
   "metadata": {},
   "outputs": [
    {
     "data": {
      "text/plain": [
       "'Delhi New in live I'"
      ]
     },
     "execution_count": 47,
     "metadata": {},
     "output_type": "execute_result"
    }
   ],
   "source": [
    "def reverse(s):\n",
    "    words = s.split() \n",
    "    reversed_words = words[::-1]  \n",
    "    return \" \".join(reversed_words)  \n",
    "\n",
    "\n",
    "reverse(\"I live in New Delhi\")\n",
    "\n"
   ]
  },
  {
   "cell_type": "code",
   "execution_count": 48,
   "id": "2c797d70-7d42-47bc-9155-485c666795c8",
   "metadata": {},
   "outputs": [
    {
     "data": {
      "text/plain": [
       "False"
      ]
     },
     "execution_count": 48,
     "metadata": {},
     "output_type": "execute_result"
    }
   ],
   "source": [
    "def is_anagram(str1, str2):\n",
    "    string1 = str1.lower().replace(\" \", \"\")\n",
    "    string2 = str2.lower().replace(\" \", \"\")\n",
    "    \n",
    "    return sorted(string1) == sorted(string2)\n",
    "\n",
    "word1 = \"Happy\"\n",
    "word2 = \"Delhi\"\n",
    "is_anagram(word1,word2)"
   ]
  },
  {
   "cell_type": "code",
   "execution_count": 49,
   "id": "f9c4a6ec-1531-42da-89b4-112d735c42cc",
   "metadata": {},
   "outputs": [
    {
     "data": {
      "text/plain": [
       "'w'"
      ]
     },
     "execution_count": 49,
     "metadata": {},
     "output_type": "execute_result"
    }
   ],
   "source": [
    "def non_repeating_char(string):\n",
    "    char_count = {}\n",
    "    \n",
    "    # Frequency\n",
    "    for char in string:\n",
    "        if char in char_count:\n",
    "            char_count[char] += 1\n",
    "        else:\n",
    "            char_count[char] = 1\n",
    "    \n",
    "\n",
    "    for char in string:\n",
    "        if char_count[char] == 1:\n",
    "            return char\n",
    "    \n",
    "    return None  \n",
    "\n",
    "non_repeating_char('hello how are you')\n"
   ]
  },
  {
   "cell_type": "code",
   "execution_count": 50,
   "id": "d5fbcd69-09a7-4f07-a39b-a26b15d2896d",
   "metadata": {},
   "outputs": [
    {
     "data": {
      "text/plain": [
       "[2, 3, 3, 5]"
      ]
     },
     "execution_count": 50,
     "metadata": {},
     "output_type": "execute_result"
    }
   ],
   "source": [
    "def find_prime_factors(number):\n",
    "    prime_factors = []\n",
    "    divisor = 2\n",
    "\n",
    "    while divisor * divisor <= number:\n",
    "        if number % divisor == 0:\n",
    "            prime_factors.append(divisor)\n",
    "            number //= divisor\n",
    "        else:\n",
    "            divisor += 1\n",
    "\n",
    "    if number > 1:\n",
    "        prime_factors.append(number)\n",
    "\n",
    "    return prime_factors\n",
    "\n",
    "\n",
    "find_prime_factors(90)"
   ]
  },
  {
   "cell_type": "code",
   "execution_count": 53,
   "id": "468a9f21-6e6b-4d99-904b-0e9a9e388218",
   "metadata": {},
   "outputs": [
    {
     "data": {
      "text/plain": [
       "True"
      ]
     },
     "execution_count": 53,
     "metadata": {},
     "output_type": "execute_result"
    }
   ],
   "source": [
    "def power_of_two(num):\n",
    "    if num<= 0:\n",
    "        return False \n",
    "    while num > 1:\n",
    "        if num % 2 != 0:\n",
    "            return False  \n",
    "        num=num//2\n",
    "    \n",
    "    return True\n",
    "\n",
    "\n",
    "power_of_two(32)\n"
   ]
  },
  {
   "cell_type": "code",
   "execution_count": 55,
   "id": "e7caf4e1-41b5-4f50-81c0-0ec8619511d9",
   "metadata": {},
   "outputs": [
    {
     "data": {
      "text/plain": [
       "[4, 5, 6, 9, 10, 15, 19, 22, 24, 90]"
      ]
     },
     "execution_count": 55,
     "metadata": {},
     "output_type": "execute_result"
    }
   ],
   "source": [
    "def merge(list1, list2):\n",
    "    merged_list = []\n",
    "    i = 0\n",
    "    j = 0\n",
    "\n",
    "    while i < len(list1) and j < len(list2):\n",
    "        if list1[i] <= list2[j]:\n",
    "            merged_list.append(list1[i])\n",
    "            i += 1\n",
    "        else:\n",
    "            merged_list.append(list2[j])\n",
    "            j += 1\n",
    "            \n",
    "    while i < len(list1):\n",
    "        merged_list.append(list1[i])\n",
    "        i += 1\n",
    "\n",
    "    while j < len(list2):\n",
    "        merged_list.append(list2[j])\n",
    "        j += 1\n",
    "\n",
    "    return merged_list\n",
    "\n",
    "numbers1 = [5,9,10,15,24]\n",
    "numbers2 = [4,6,19,22,90]\n",
    "merge(numbers1, numbers2)\n"
   ]
  },
  {
   "cell_type": "code",
   "execution_count": 2,
   "id": "e827dbb8-0706-4957-abd3-20288a932046",
   "metadata": {},
   "outputs": [
    {
     "data": {
      "text/plain": [
       "[4]"
      ]
     },
     "execution_count": 2,
     "metadata": {},
     "output_type": "execute_result"
    }
   ],
   "source": [
    "def mode(numbers):\n",
    "    frequency = {}\n",
    "    max_count = 0\n",
    "    mode = []\n",
    "\n",
    "    for num in numbers:\n",
    "        if num in frequency:\n",
    "            frequency[num] += 1\n",
    "        else:\n",
    "            frequency[num] = 1\n",
    "            \n",
    "        if frequency[num] > max_count:\n",
    "            max_count = frequency[num]\n",
    "\n",
    "    for num in frequency:\n",
    "        if frequency[num] == max_count:\n",
    "            mode.append(num)\n",
    "\n",
    "    return mode\n",
    "\n",
    "mode([4,3,4,5,10,2,3,4,4,3])\n",
    "\n"
   ]
  },
  {
   "cell_type": "code",
   "execution_count": 4,
   "id": "f6caa8d8-98d1-409d-8cc4-17f6bee37f73",
   "metadata": {},
   "outputs": [
    {
     "data": {
      "text/plain": [
       "2"
      ]
     },
     "execution_count": 4,
     "metadata": {},
     "output_type": "execute_result"
    }
   ],
   "source": [
    "def gcd(a, b):\n",
    "    while b != 0:\n",
    "        a, b = b, a % b\n",
    "    return a\n",
    "\n",
    "gcd(50,64)\n",
    "\n"
   ]
  },
  {
   "cell_type": "code",
   "execution_count": 9,
   "id": "1a535025-84dc-46a1-bf80-e8f8732d5168",
   "metadata": {},
   "outputs": [
    {
     "data": {
      "text/plain": [
       "3.0"
      ]
     },
     "execution_count": 9,
     "metadata": {},
     "output_type": "execute_result"
    }
   ],
   "source": [
    "def sqroot(n):\n",
    "    return n**0.5\n",
    "\n",
    "sqroot(9)"
   ]
  },
  {
   "cell_type": "code",
   "execution_count": 14,
   "id": "9b07f3ca-6ae3-42c7-8201-2d6e74990c3f",
   "metadata": {},
   "outputs": [
    {
     "data": {
      "text/plain": [
       "False"
      ]
     },
     "execution_count": 14,
     "metadata": {},
     "output_type": "execute_result"
    }
   ],
   "source": [
    "def palindrome(s):\n",
    "    var = ''.join(i.lower() for i in s if i.isalnum())\n",
    "\n",
    "    return var == var[::-1]\n",
    "palindrome('Good Work')\n"
   ]
  },
  {
   "cell_type": "code",
   "execution_count": 19,
   "id": "437aa550-81ef-4881-b32b-1b78a3425f9c",
   "metadata": {},
   "outputs": [
    {
     "data": {
      "text/plain": [
       "2"
      ]
     },
     "execution_count": 19,
     "metadata": {},
     "output_type": "execute_result"
    }
   ],
   "source": [
    "def min_element(nums):\n",
    "    left = 0\n",
    "    right = len(nums) - 1\n",
    "\n",
    "    while left < right:\n",
    "        mid = left + (right - left) // 2\n",
    "\n",
    "        if nums[mid] > nums[right]:\n",
    "            left = mid + 1\n",
    "        else:\n",
    "            right = mid\n",
    "\n",
    "\n",
    "    return nums[left]\n",
    "\n",
    "min_element([2,4,5,6,8,10])\n"
   ]
  },
  {
   "cell_type": "code",
   "execution_count": 18,
   "id": "13238eaf-114a-427a-82d5-7914b191b590",
   "metadata": {},
   "outputs": [
    {
     "data": {
      "text/plain": [
       "12"
      ]
     },
     "execution_count": 18,
     "metadata": {},
     "output_type": "execute_result"
    }
   ],
   "source": [
    "def sum_even(l):\n",
    "    return sum([i for i in l if i%2==0])\n",
    "sum_even([1,2,3,4,5,6])"
   ]
  },
  {
   "cell_type": "code",
   "execution_count": 20,
   "id": "1c0d44ab-8163-4964-b6af-620e63e15e8c",
   "metadata": {},
   "outputs": [
    {
     "data": {
      "text/plain": [
       "1953125"
      ]
     },
     "execution_count": 20,
     "metadata": {},
     "output_type": "execute_result"
    }
   ],
   "source": [
    "def power(base, exp):\n",
    "    if exp == 0:\n",
    "        return 1\n",
    "    elif exp < 0:\n",
    "        return 1 / power(base, -exp)\n",
    "    else:\n",
    "        return base * power(base, exp - 1)\n",
    "power(5,9)"
   ]
  },
  {
   "cell_type": "code",
   "execution_count": 21,
   "id": "0a23099b-0acc-4a37-8b02-9d9d06f4122e",
   "metadata": {},
   "outputs": [
    {
     "data": {
      "text/plain": [
       "[4, 5, 7, 10, 90, 45, 34]"
      ]
     },
     "execution_count": 21,
     "metadata": {},
     "output_type": "execute_result"
    }
   ],
   "source": [
    "def remove_duplicates(lst):\n",
    "    map = set()\n",
    "    result = []\n",
    "    for item in lst:\n",
    "        if item not in map:\n",
    "            map.add(item)\n",
    "            result.append(item)\n",
    "    return result\n",
    "remove_duplicates([4,5,4,7,10,5,90,45,34,90])"
   ]
  },
  {
   "cell_type": "code",
   "execution_count": 23,
   "id": "daf2b1d7-4d6c-4366-8d40-57002cd8a3b2",
   "metadata": {},
   "outputs": [
    {
     "data": {
      "text/plain": [
       "'he'"
      ]
     },
     "execution_count": 23,
     "metadata": {},
     "output_type": "execute_result"
    }
   ],
   "source": [
    "def common_prefix(s):\n",
    "    if not s:\n",
    "        return \"\"\n",
    "\n",
    "    prefix = s[0]  \n",
    "\n",
    "    for i in range(1, len(s)):\n",
    "        while s[i].find(prefix) != 0:\n",
    "            prefix = prefix[:-1]  \n",
    "\n",
    "            if not prefix:  \n",
    "                return \"\"\n",
    "\n",
    "    return prefix\n",
    "common_prefix(['hello','hen','hemant'])"
   ]
  },
  {
   "cell_type": "code",
   "execution_count": 24,
   "id": "eb6b1fdc-c536-44f7-bb38-9ccbfdf5b190",
   "metadata": {},
   "outputs": [
    {
     "data": {
      "text/plain": [
       "False"
      ]
     },
     "execution_count": 24,
     "metadata": {},
     "output_type": "execute_result"
    }
   ],
   "source": [
    "def perfect_square(number):\n",
    "    if number < 0:\n",
    "        return False\n",
    "    elif number == 0:\n",
    "        return True\n",
    "\n",
    "    left = 1\n",
    "    right = number\n",
    "\n",
    "    while left <= right:\n",
    "        mid = left + (right - left) // 2\n",
    "        square = mid * mid\n",
    "\n",
    "        if square == number:\n",
    "            return True\n",
    "        elif square < number:\n",
    "            left = mid + 1\n",
    "        else:\n",
    "            right = mid - 1\n",
    "\n",
    "    return False\n",
    "\n",
    "perfect_square(90)"
   ]
  },
  {
   "cell_type": "code",
   "execution_count": 25,
   "id": "bc2795d1-0d5f-4b87-bc51-8df4658d13a0",
   "metadata": {},
   "outputs": [
    {
     "data": {
      "text/plain": [
       "540"
      ]
     },
     "execution_count": 25,
     "metadata": {},
     "output_type": "execute_result"
    }
   ],
   "source": [
    "def product(l):\n",
    "    product = 1\n",
    "\n",
    "    for i in l:\n",
    "        product *= i\n",
    "\n",
    "    return product\n",
    "product([5,3,9,4])"
   ]
  },
  {
   "cell_type": "code",
   "execution_count": 26,
   "id": "615aaee8-9473-464b-9d12-7682d6d55909",
   "metadata": {},
   "outputs": [
    {
     "data": {
      "text/plain": [
       "'Delhi New in live I'"
      ]
     },
     "execution_count": 26,
     "metadata": {},
     "output_type": "execute_result"
    }
   ],
   "source": [
    "def reverse(s):\n",
    "    words = s.split() \n",
    "    reversed_words = words[::-1]  \n",
    "    return \" \".join(reversed_words)  \n",
    "\n",
    "\n",
    "reverse(\"I live in New Delhi\")"
   ]
  },
  {
   "cell_type": "code",
   "execution_count": 28,
   "id": "a10a3b50-31a3-437f-b8c1-0d2deaa548ac",
   "metadata": {},
   "outputs": [
    {
     "data": {
      "text/plain": [
       "5"
      ]
     },
     "execution_count": 28,
     "metadata": {},
     "output_type": "execute_result"
    }
   ],
   "source": [
    "def missing_number(numbers):\n",
    "    n = len(numbers) + 1  \n",
    "    expected_sum = (n * (n + 1)) // 2  \n",
    "    actual_sum = sum(numbers) \n",
    "    missing_number = expected_sum - actual_sum\n",
    "    return missing_number\n",
    "missing_number([1,2,3,4,6,7])"
   ]
  },
  {
   "cell_type": "code",
   "execution_count": 29,
   "id": "63a05674-f2c2-4e3b-a1ed-0392e3402add",
   "metadata": {},
   "outputs": [
    {
     "data": {
      "text/plain": [
       "20"
      ]
     },
     "execution_count": 29,
     "metadata": {},
     "output_type": "execute_result"
    }
   ],
   "source": [
    "def sum_digits(number):\n",
    "    sum = 0\n",
    "    number_str = str(number)\n",
    "\n",
    "    for digit in number_str:\n",
    "        sum += int(digit)\n",
    "\n",
    "    return sum\n",
    "sum_digits('767')"
   ]
  },
  {
   "cell_type": "code",
   "execution_count": 30,
   "id": "4290df37-51e1-4a33-9bbf-39b88deacb42",
   "metadata": {},
   "outputs": [
    {
     "data": {
      "text/plain": [
       "False"
      ]
     },
     "execution_count": 30,
     "metadata": {},
     "output_type": "execute_result"
    }
   ],
   "source": [
    "def palindrome(s):\n",
    "    var = ''.join(i.lower() for i in s if i.isalnum())\n",
    "\n",
    "    return var == var[::-1]\n",
    "palindrome('Good Work')"
   ]
  },
  {
   "cell_type": "code",
   "execution_count": 34,
   "id": "620c8b96-8fbf-4f3f-9c92-f35daaa5d84f",
   "metadata": {},
   "outputs": [
    {
     "data": {
      "text/plain": [
       "1"
      ]
     },
     "execution_count": 34,
     "metadata": {},
     "output_type": "execute_result"
    }
   ],
   "source": [
    "def find_smallest_missing_positive(nums):\n",
    "    n = len(nums)\n",
    "\n",
    "    for i in range(n):\n",
    "        if nums[i] <= 0:\n",
    "            nums[i] = n + 1\n",
    "\n",
    "    for i in range(n):\n",
    "        num = abs(nums[i])\n",
    "        if num <= n:\n",
    "            nums[num - 1] = -abs(nums[num - 1])\n",
    "\n",
    "    for i in range(n):\n",
    "        if nums[i] > 0:\n",
    "            return i + 1\n",
    "\n",
    "    return n + 1\n",
    "\n",
    "find_smallest_missing_positive([5,6,4,9,-6])"
   ]
  },
  {
   "cell_type": "code",
   "execution_count": 36,
   "id": "a3213cc8-74ea-42e3-bbca-e8fc9c1522ff",
   "metadata": {},
   "outputs": [
    {
     "data": {
      "text/plain": [
       "'aba'"
      ]
     },
     "execution_count": 36,
     "metadata": {},
     "output_type": "execute_result"
    }
   ],
   "source": [
    "def longest_palindrome(string):\n",
    "    longest_palindrome = \"\"\n",
    "    n = len(string)\n",
    "\n",
    "    for i in range(n):\n",
    "        for j in range(i, n):\n",
    "            substring = string[i:j+1]\n",
    "            if is_palindrome(substring) and len(substring) > len(longest_palindrome):\n",
    "                longest_palindrome = substring\n",
    "\n",
    "    return longest_palindrome\n",
    "\n",
    "\n",
    "def is_palindrome(string):\n",
    "    return string == string[::-1]\n",
    "longest_palindrome('aba')"
   ]
  },
  {
   "cell_type": "code",
   "execution_count": 37,
   "id": "4d45a2d6-e6b3-4e80-b2b3-65190ff7d400",
   "metadata": {},
   "outputs": [
    {
     "data": {
      "text/plain": [
       "3"
      ]
     },
     "execution_count": 37,
     "metadata": {},
     "output_type": "execute_result"
    }
   ],
   "source": [
    "def count(lst, target):\n",
    "    count = 0\n",
    "\n",
    "    for i in lst:\n",
    "        if i == target:\n",
    "            count += 1\n",
    "\n",
    "    return count\n",
    "count([4,56,78,39,56,54,56],56)"
   ]
  },
  {
   "cell_type": "code",
   "execution_count": 38,
   "id": "2da2a387-f11f-48ef-b4ce-6551f1473bca",
   "metadata": {},
   "outputs": [
    {
     "data": {
      "text/plain": [
       "False"
      ]
     },
     "execution_count": 38,
     "metadata": {},
     "output_type": "execute_result"
    }
   ],
   "source": [
    "def is_perfect_number(number):\n",
    "    if number <= 0:\n",
    "        return False\n",
    "\n",
    "    divisor_sum = sum(divisor for divisor in range(1, number) if number % divisor == 0)\n",
    "    return divisor_sum == number\n",
    "is_perfect_number(78)"
   ]
  },
  {
   "cell_type": "code",
   "execution_count": 40,
   "id": "5c0feb05-f04d-4290-92e5-6d38d15fb211",
   "metadata": {},
   "outputs": [
    {
     "data": {
      "text/plain": [
       "'abc def'"
      ]
     },
     "execution_count": 40,
     "metadata": {},
     "output_type": "execute_result"
    }
   ],
   "source": [
    "def remove_duplicates(string):\n",
    "    unique_chars = []\n",
    "    for i in string:\n",
    "        if i not in unique_chars:\n",
    "            unique_chars.append(i)\n",
    "    return ''.join(unique_chars)\n",
    "remove_duplicates('abca def')"
   ]
  },
  {
   "cell_type": "code",
   "execution_count": 44,
   "id": "34253a15-6d3f-4751-907f-3797b5076a77",
   "metadata": {},
   "outputs": [
    {
     "data": {
      "text/plain": [
       "1"
      ]
     },
     "execution_count": 44,
     "metadata": {},
     "output_type": "execute_result"
    }
   ],
   "source": [
    "def find_first_missing_positive(nums):\n",
    "    n=len(nums)\n",
    "    for i in range(1,n+2):\n",
    "        miss_flag=True\n",
    "        for j in range(n):\n",
    "            if nums[j]==i:\n",
    "                miss_flag=False\n",
    "                break\n",
    "            if miss_flag:\n",
    "                return i\n",
    "    \n",
    "\n",
    "missing_positive([3,4,-1,-1])"
   ]
  },
  {
   "cell_type": "code",
   "execution_count": null,
   "id": "85669197-596b-41e9-96e5-f5ae5888af4f",
   "metadata": {},
   "outputs": [],
   "source": []
  }
 ],
 "metadata": {
  "kernelspec": {
   "display_name": "Python 3 (ipykernel)",
   "language": "python",
   "name": "python3"
  },
  "language_info": {
   "codemirror_mode": {
    "name": "ipython",
    "version": 3
   },
   "file_extension": ".py",
   "mimetype": "text/x-python",
   "name": "python",
   "nbconvert_exporter": "python",
   "pygments_lexer": "ipython3",
   "version": "3.10.8"
  }
 },
 "nbformat": 4,
 "nbformat_minor": 5
}
