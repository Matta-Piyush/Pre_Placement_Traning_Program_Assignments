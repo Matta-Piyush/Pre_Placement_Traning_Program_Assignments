{
 "cells": [
  {
   "cell_type": "markdown",
   "id": "0e9096ed-4e25-4730-aa40-91d633618b75",
   "metadata": {},
   "source": [
    "## Question1"
   ]
  },
  {
   "cell_type": "code",
   "execution_count": 1,
   "id": "df29b430-cdaf-4217-941e-ea5c4406f7fa",
   "metadata": {},
   "outputs": [
    {
     "data": {
      "text/plain": [
       "231"
      ]
     },
     "execution_count": 1,
     "metadata": {},
     "output_type": "execute_result"
    }
   ],
   "source": [
    "def lowestAsciiSum(s1, s2):\n",
    "    m, n = len(s1), len(s2)\n",
    "    dp = [[0] * (n + 1) for _ in range(m + 1)]\n",
    "\n",
    "    for i in range(1, m + 1):\n",
    "        dp[i][0] = dp[i - 1][0] + ord(s1[i - 1])\n",
    "    for j in range(1, n + 1):\n",
    "        dp[0][j] = dp[0][j - 1] + ord(s2[j - 1])\n",
    "\n",
    "    for i in range(1, m + 1):\n",
    "        for j in range(1, n + 1):\n",
    "            if s1[i - 1] == s2[j - 1]:\n",
    "                dp[i][j] = dp[i - 1][j - 1]\n",
    "            else:\n",
    "                dp[i][j] = min(dp[i - 1][j] + ord(s1[i - 1]), dp[i][j - 1] + ord(s2[j - 1]))\n",
    "\n",
    "    return dp[m][n]\n",
    "\n",
    "s1 = \"sea\"\n",
    "s2 = \"eat\"\n",
    "lowestAsciiSum(s1,s2)"
   ]
  },
  {
   "cell_type": "markdown",
   "id": "777fbf55-e571-47ec-a2e7-7b229db15891",
   "metadata": {},
   "source": [
    "## Question2"
   ]
  },
  {
   "cell_type": "code",
   "execution_count": 2,
   "id": "ed9e4ccc-4c19-4bd3-9862-a8fb028766c1",
   "metadata": {},
   "outputs": [
    {
     "data": {
      "text/plain": [
       "True"
      ]
     },
     "execution_count": 2,
     "metadata": {},
     "output_type": "execute_result"
    }
   ],
   "source": [
    "def checkValidString(s):\n",
    "    stack = []\n",
    "    asterisks = []\n",
    "\n",
    "    for i, ch in enumerate(s):\n",
    "        if ch == '(':\n",
    "            stack.append(i)\n",
    "        elif ch == '*':\n",
    "            asterisks.append(i)\n",
    "        else:\n",
    "            if stack:\n",
    "                stack.pop()\n",
    "            elif asterisks:\n",
    "                asterisks.pop()\n",
    "            else:\n",
    "                return False\n",
    "\n",
    "    # Check remaining unmatched open parentheses\n",
    "    while stack and asterisks:\n",
    "        if stack[-1] > asterisks[-1]:\n",
    "            return False\n",
    "        stack.pop()\n",
    "        asterisks.pop()\n",
    "\n",
    "    return len(stack) == 0\n",
    "s = \"()\"\n",
    "checkValidString(s)"
   ]
  },
  {
   "cell_type": "markdown",
   "id": "5196eefc-65bb-4096-832c-cfaf7554c804",
   "metadata": {},
   "source": [
    "## Question3"
   ]
  },
  {
   "cell_type": "code",
   "execution_count": 3,
   "id": "c71ca849-0348-40f5-a379-c1b5e3d444a8",
   "metadata": {},
   "outputs": [
    {
     "data": {
      "text/plain": [
       "2"
      ]
     },
     "execution_count": 3,
     "metadata": {},
     "output_type": "execute_result"
    }
   ],
   "source": [
    "def minSteps(word1, word2, i, j):\n",
    "    # Base cases\n",
    "    if i == len(word1):\n",
    "        return len(word2) - j\n",
    "    if j == len(word2):\n",
    "        return len(word1) - i\n",
    "    if word1[i] == word2[j]:\n",
    "        return minSteps(word1, word2, i + 1, j + 1)\n",
    "\n",
    "\n",
    "    return 1 + min(\n",
    "        minSteps(word1, word2, i + 1, j),\n",
    "        minSteps(word1, word2, i, j + 1)\n",
    "    )\n",
    "minSteps('sea','eat',0,0)"
   ]
  },
  {
   "cell_type": "markdown",
   "id": "865075a1-8458-4396-97f8-2b802b4e904b",
   "metadata": {},
   "source": [
    "## Question4"
   ]
  },
  {
   "cell_type": "code",
   "execution_count": 25,
   "id": "d35d424e-fcca-42ea-b218-9af4f47aef71",
   "metadata": {},
   "outputs": [
    {
     "name": "stdout",
     "output_type": "stream",
     "text": [
      "[4, None, [2, None, [3, None, None]]]\n"
     ]
    }
   ],
   "source": [
    "def str2tree(s):\n",
    "    if not s:\n",
    "        return None\n",
    "\n",
    "    # Find the value of the root node\n",
    "    i = 0\n",
    "    while i < len(s) and (s[i].isdigit() or s[i] == '-'):\n",
    "        i += 1\n",
    "    val = int(s[:i])\n",
    "\n",
    "    # Check if there are any child trees\n",
    "    if i == len(s):\n",
    "        return [val]\n",
    "\n",
    "    # Find the indices of the parentheses\n",
    "    stack = []\n",
    "    left_index = -1\n",
    "    for j in range(i, len(s)):\n",
    "        if s[j] == '(':\n",
    "            if not stack:\n",
    "                left_index = j\n",
    "            stack.append(j)\n",
    "        elif s[j] == ')':\n",
    "            if not stack:\n",
    "                break\n",
    "            stack.pop()\n",
    "            if not stack:\n",
    "                break\n",
    "\n",
    "    # Recursively construct the left and right subtrees\n",
    "    left = str2tree(s[i+1:left_index]) if left_index != -1 else None\n",
    "    right = str2tree(s[left_index+1:-1]) if left_index != -1 else None\n",
    "\n",
    "    return [val, left, right]\n",
    "\n",
    "\n",
    "s = \"4(2(3)(1))(6(5))\"\n",
    "result = str2tree(s)\n",
    "print(result)"
   ]
  },
  {
   "cell_type": "markdown",
   "id": "0a2e7a28-5947-43b5-a429-b31e248dc8fe",
   "metadata": {},
   "source": [
    "## Question5"
   ]
  },
  {
   "cell_type": "code",
   "execution_count": 16,
   "id": "aa5623a8-7b18-44ee-b9e1-54d8f55bb1d0",
   "metadata": {},
   "outputs": [
    {
     "name": "stdout",
     "output_type": "stream",
     "text": [
      "6\n",
      "['a', '2', 'b', '2', 'c', '3']\n"
     ]
    }
   ],
   "source": [
    "def compress(chars):\n",
    "    write = 0\n",
    "    count = 1\n",
    "\n",
    "    for read in range(1, len(chars) + 1):\n",
    "        if read < len(chars) and chars[read] == chars[read - 1]:\n",
    "            count += 1\n",
    "        else:\n",
    "            chars[write] = chars[read - 1]\n",
    "            write += 1\n",
    "\n",
    "            if count > 1:\n",
    "                count_str = str(count)\n",
    "                for digit in count_str:\n",
    "                    chars[write] = digit\n",
    "                    write += 1\n",
    "\n",
    "            count = 1\n",
    "\n",
    "    return write\n",
    "\n",
    "chars = [\"a\", \"a\", \"b\", \"b\", \"c\", \"c\", \"c\"]\n",
    "new_length = compress(chars)\n",
    "print(new_length)  \n",
    "print(chars[:new_length]) \n"
   ]
  },
  {
   "cell_type": "markdown",
   "id": "6708363c-973c-4a79-b1ce-ed938f7edeef",
   "metadata": {},
   "source": [
    "## Question6"
   ]
  },
  {
   "cell_type": "code",
   "execution_count": 17,
   "id": "343457f9-a398-4ac5-ae50-09b154e698e9",
   "metadata": {},
   "outputs": [
    {
     "data": {
      "text/plain": [
       "[0, 6]"
      ]
     },
     "execution_count": 17,
     "metadata": {},
     "output_type": "execute_result"
    }
   ],
   "source": [
    "def findAnagrams(s, p):\n",
    "    result = []\n",
    "    p_count = [0] * 26\n",
    "    s_count = [0] * 26\n",
    "\n",
    "    for char in p:\n",
    "        p_count[ord(char) - ord('a')] += 1\n",
    "\n",
    "\n",
    "    for i in range(len(s)):\n",
    "\n",
    "        s_count[ord(s[i]) - ord('a')] += 1\n",
    "\n",
    "       \n",
    "        if i >= len(p):\n",
    "            s_count[ord(s[i - len(p)]) - ord('a')] -= 1\n",
    "\n",
    "      \n",
    "        if s_count == p_count:\n",
    "            result.append(i - len(p) + 1)\n",
    "\n",
    "    return result\n",
    "\n",
    "s = \"cbaebabacd\"\n",
    "p = \"abc\"\n",
    "findAnagrams(s,p)"
   ]
  },
  {
   "cell_type": "markdown",
   "id": "a6ae3344-2434-4bae-b282-1d135524fe70",
   "metadata": {},
   "source": [
    "## Question7"
   ]
  },
  {
   "cell_type": "code",
   "execution_count": 18,
   "id": "89cbee36-2fc2-4067-8d6f-d19f0f5fb7ae",
   "metadata": {},
   "outputs": [
    {
     "name": "stdout",
     "output_type": "stream",
     "text": [
      "aaabcbc\n"
     ]
    }
   ],
   "source": [
    "def decodeString(s):\n",
    "    stack = []\n",
    "    curr_count = 0\n",
    "    curr_string = \"\"\n",
    "\n",
    "    for char in s:\n",
    "        if char.isdigit():\n",
    "            curr_count = curr_count * 10 + int(char)\n",
    "        elif char == '[':\n",
    "            stack.append(curr_string)\n",
    "            stack.append(curr_count)\n",
    "            curr_string = \"\"\n",
    "            curr_count = 0\n",
    "        elif char == ']':\n",
    "            count = stack.pop()\n",
    "            prev_string = stack.pop()\n",
    "            curr_string = prev_string + count * curr_string\n",
    "        else:\n",
    "            curr_string += char\n",
    "\n",
    "    return curr_string\n",
    "\n",
    "\n",
    "s = \"3[a]2[bc]\"\n",
    "print(decodeString(s)) "
   ]
  },
  {
   "cell_type": "markdown",
   "id": "f7c26092-5307-42af-920f-46c12b99c256",
   "metadata": {},
   "source": [
    "## Question8"
   ]
  },
  {
   "cell_type": "code",
   "execution_count": 19,
   "id": "3dc51641-c22c-49f3-8603-57526a5c13fd",
   "metadata": {},
   "outputs": [
    {
     "name": "stdout",
     "output_type": "stream",
     "text": [
      "True\n"
     ]
    }
   ],
   "source": [
    "def canConvert(s, goal):\n",
    "    diff_indices = []\n",
    "    char_count = [0] * 26\n",
    "\n",
    "    for i in range(len(s)):\n",
    "        if s[i] != goal[i]:\n",
    "            diff_indices.append(i)\n",
    "        char_count[ord(s[i]) - ord('a')] += 1\n",
    "\n",
    "    if len(diff_indices) == 0:\n",
    "        return any(count > 1 for count in char_count)\n",
    "\n",
    "    if len(diff_indices) != 2:\n",
    "        return False\n",
    "\n",
    "    return s[diff_indices[0]] == goal[diff_indices[1]] and s[diff_indices[1]] == goal[diff_indices[0]]\n",
    "\n",
    "\n",
    "s = \"ab\"\n",
    "goal = \"ba\"\n",
    "print(canConvert(s, goal))  "
   ]
  },
  {
   "cell_type": "code",
   "execution_count": null,
   "id": "6852081c-b0be-48b7-9bd6-44900662f03b",
   "metadata": {},
   "outputs": [],
   "source": []
  }
 ],
 "metadata": {
  "kernelspec": {
   "display_name": "Python 3 (ipykernel)",
   "language": "python",
   "name": "python3"
  },
  "language_info": {
   "codemirror_mode": {
    "name": "ipython",
    "version": 3
   },
   "file_extension": ".py",
   "mimetype": "text/x-python",
   "name": "python",
   "nbconvert_exporter": "python",
   "pygments_lexer": "ipython3",
   "version": "3.10.8"
  }
 },
 "nbformat": 4,
 "nbformat_minor": 5
}
