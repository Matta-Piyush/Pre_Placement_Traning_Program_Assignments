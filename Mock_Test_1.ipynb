{
 "cells": [
  {
   "cell_type": "markdown",
   "id": "aad3865c-4883-41ad-8076-90d4e072de59",
   "metadata": {},
   "source": [
    "## Question1"
   ]
  },
  {
   "cell_type": "code",
   "execution_count": 1,
   "id": "e8d3e337-0db0-4064-86b5-742dd1909add",
   "metadata": {},
   "outputs": [
    {
     "name": "stdout",
     "output_type": "stream",
     "text": [
      "[1, 3, 12, 0, 0]\n"
     ]
    }
   ],
   "source": [
    "def moveZeroes(nums):\n",
    "    ptr=0                        \n",
    "    for i in range(len(nums)):\n",
    "        if nums[i]!=0:                          ## Swap the values if the value at curr index is not equal to 0\n",
    "            nums[ptr],nums[i]=nums[i],nums[ptr]\n",
    "            ptr+=1\n",
    "nums = [0,1,0,3,12]\n",
    "moveZeroes(nums)\n",
    "print(nums)"
   ]
  },
  {
   "cell_type": "markdown",
   "id": "f15c6b16-7155-497d-b9e5-a17ff711e3b4",
   "metadata": {},
   "source": [
    "## Question2"
   ]
  },
  {
   "cell_type": "code",
   "execution_count": 4,
   "id": "fac8bcfa-bc80-4f3f-b2cc-22def2d590c3",
   "metadata": {},
   "outputs": [
    {
     "data": {
      "text/plain": [
       "4"
      ]
     },
     "execution_count": 4,
     "metadata": {},
     "output_type": "execute_result"
    }
   ],
   "source": [
    "def firstUniqChar(s):\n",
    "    map={}\n",
    "    for i in s:\n",
    "        map[i]=map.get(i,0)+1\n",
    "    for i in range(len(s)):\n",
    "        if map[s[i]]==1:\n",
    "            return i\n",
    "    return -1\n",
    "string='Piyush'\n",
    "firstUniqChar(string)"
   ]
  },
  {
   "cell_type": "code",
   "execution_count": null,
   "id": "4245718d-d9ed-4cf9-ba85-2d9ba382e4eb",
   "metadata": {},
   "outputs": [],
   "source": []
  }
 ],
 "metadata": {
  "kernelspec": {
   "display_name": "Python 3 (ipykernel)",
   "language": "python",
   "name": "python3"
  },
  "language_info": {
   "codemirror_mode": {
    "name": "ipython",
    "version": 3
   },
   "file_extension": ".py",
   "mimetype": "text/x-python",
   "name": "python",
   "nbconvert_exporter": "python",
   "pygments_lexer": "ipython3",
   "version": "3.10.8"
  }
 },
 "nbformat": 4,
 "nbformat_minor": 5
}
