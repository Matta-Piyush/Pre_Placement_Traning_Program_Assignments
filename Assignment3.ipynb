{
 "cells": [
  {
   "cell_type": "markdown",
   "id": "f0395058-7535-46df-ae6a-b7725e78bffd",
   "metadata": {},
   "source": [
    "## Question1"
   ]
  },
  {
   "cell_type": "code",
   "execution_count": 15,
   "id": "7d40895c-6932-48d6-87b8-cbcf6071b24c",
   "metadata": {},
   "outputs": [
    {
     "data": {
      "text/plain": [
       "2"
      ]
     },
     "execution_count": 15,
     "metadata": {},
     "output_type": "execute_result"
    }
   ],
   "source": [
    "def threeSum(nums, target):\n",
    "    nums.sort() \n",
    "    n = len(nums)\n",
    "    closest_sum = float('inf')\n",
    "\n",
    "    for i in range(n - 2):\n",
    "        left = i + 1\n",
    "        right = n - 1\n",
    "\n",
    "        while left < right:\n",
    "            current_sum = nums[i] + nums[left] + nums[right]\n",
    "            if current_sum == target:\n",
    "                return target\n",
    "\n",
    "            # Update closest_sum if the current sum is closer to the target\n",
    "            if abs(current_sum - target) < abs(closest_sum - target):\n",
    "                closest_sum = current_sum\n",
    "\n",
    "            if current_sum < target:\n",
    "                left += 1\n",
    "            else:\n",
    "                right -= 1\n",
    "\n",
    "    return closest_sum\n",
    "nums = [-1,2,1,-4]\n",
    "threeSum(nums,1)"
   ]
  },
  {
   "cell_type": "markdown",
   "id": "e85bbb58-088c-46da-97d4-8c168f12274b",
   "metadata": {},
   "source": [
    "## Question2"
   ]
  },
  {
   "cell_type": "code",
   "execution_count": 16,
   "id": "a2c0f161-8106-4fef-93bc-94a6f5e1c243",
   "metadata": {},
   "outputs": [
    {
     "data": {
      "text/plain": [
       "[[-2, -1, 1, 2], [-2, 0, 0, 2], [-1, 0, 0, 1]]"
      ]
     },
     "execution_count": 16,
     "metadata": {},
     "output_type": "execute_result"
    }
   ],
   "source": [
    "def fourSum(nums,target):\n",
    "    \n",
    "        nums.sort()\n",
    "        n = len(nums)\n",
    "        result = []\n",
    "\n",
    "        for a in range(n - 3):\n",
    "            if a > 0 and nums[a] == nums[a - 1]:\n",
    "                continue\n",
    "\n",
    "            for b in range(a + 1, n - 2):\n",
    "                if b > a + 1 and nums[b] == nums[b - 1]:\n",
    "                    continue\n",
    "\n",
    "                left = b + 1\n",
    "                right = n - 1\n",
    "\n",
    "                while left < right:\n",
    "                    currentSum = nums[a] + nums[b] + nums[left] + nums[right]\n",
    "\n",
    "                    if currentSum == target:\n",
    "                        result.append([nums[a], nums[b], nums[left], nums[right]])\n",
    "                        left += 1\n",
    "                        right -= 1\n",
    "\n",
    "                        while left < right and nums[left] == nums[left - 1]:\n",
    "                            left += 1\n",
    "\n",
    "                        while left < right and nums[right] == nums[right + 1]:\n",
    "                            right -= 1\n",
    "\n",
    "                    elif currentSum < target:\n",
    "                        left += 1\n",
    "                    else:\n",
    "                        right -= 1\n",
    "        return result\n",
    "nums = [1,0,-1,0,-2,2]\n",
    "fourSum(nums,0)"
   ]
  },
  {
   "cell_type": "markdown",
   "id": "fff2eed3-9afb-43c6-a21a-1352f167eac8",
   "metadata": {},
   "source": [
    "## Question3"
   ]
  },
  {
   "cell_type": "code",
   "execution_count": 17,
   "id": "b76ceede-724b-4169-b969-7f9421835ca9",
   "metadata": {},
   "outputs": [
    {
     "data": {
      "text/plain": [
       "[1, 3, 2]"
      ]
     },
     "execution_count": 17,
     "metadata": {},
     "output_type": "execute_result"
    }
   ],
   "source": [
    "def nextPermutation(nums):\n",
    "    n = len(nums)\n",
    "    i = n - 2\n",
    "\n",
    "    while i >= 0 and nums[i] >= nums[i+1]:\n",
    "        i -= 1\n",
    "\n",
    "    if i >= 0:\n",
    "        j = n - 1\n",
    "       \n",
    "        while j > i and nums[j] <= nums[i]:\n",
    "            j -= 1\n",
    "        nums[i], nums[j] = nums[j], nums[i]\n",
    "        \n",
    "    left = i + 1\n",
    "    right = n - 1\n",
    "    while left < right:\n",
    "        nums[left], nums[right] = nums[right], nums[left]\n",
    "        left += 1\n",
    "        right -= 1\n",
    "\n",
    "    return nums\n",
    "nums=[1,2,3]\n",
    "nextPermutation(nums)"
   ]
  },
  {
   "cell_type": "markdown",
   "id": "4414ae26-66c9-4b2c-bb4d-ece56256b5f3",
   "metadata": {},
   "source": [
    "## Question4"
   ]
  },
  {
   "cell_type": "code",
   "execution_count": 18,
   "id": "e5e10394-b571-4d16-ab9e-5c544183eb62",
   "metadata": {},
   "outputs": [
    {
     "data": {
      "text/plain": [
       "2"
      ]
     },
     "execution_count": 18,
     "metadata": {},
     "output_type": "execute_result"
    }
   ],
   "source": [
    "def findIndex(nums,target):\n",
    "    lb=0\n",
    "    ub=len(nums)-1\n",
    "    while(lb<=ub):                ## Using Binary Search Algorithm\n",
    "        mid=lb+(ub-lb)//2\n",
    "        if(nums[mid]==target):\n",
    "            return mid\n",
    "        elif(nums[mid]<target):\n",
    "             lb=mid+1\n",
    "        else:\n",
    "             ub=mid-1\n",
    "    return lb\n",
    "\n",
    "arr=[1,3,5,6]           \n",
    "findIndex(arr,5)             ## 5 is present at index 2 of arr"
   ]
  },
  {
   "cell_type": "markdown",
   "id": "24e42acd-fe4a-45a0-a240-dc12a1c6ab93",
   "metadata": {},
   "source": [
    "## Question5"
   ]
  },
  {
   "cell_type": "code",
   "execution_count": 22,
   "id": "2de5c2c1-1fea-4688-b015-e75e6df4b4a6",
   "metadata": {},
   "outputs": [
    {
     "name": "stdout",
     "output_type": "stream",
     "text": [
      "[1, 2, 4]\n",
      "[1, 0, 0, 0]\n"
     ]
    }
   ],
   "source": [
    "def increment(digits):\n",
    "    n=len(digits)\n",
    "    for i in range(n-1,-1,-1):      ## here we are starting our loop from last index of the array \n",
    "        digits[i]+=1                ## incrementing the last digit by 1\n",
    "        if digits[i]==10:           ## if after incrementing the value becomes 10 then we need to make it as 0 as a particular index can hold only 1 digit\n",
    "            digits[i]=0\n",
    "        else:\n",
    "            return digits\n",
    "    digits.insert(0,1)\n",
    "    return digits\n",
    "\n",
    "arr1=[1,2,3]      \n",
    "val1=increment(arr1)                 ## After incrementing the value becomes 1,2,4\n",
    "\n",
    "arr2=[9,9,9]\n",
    "val2=increment(arr2)                ## here after adding one the value becomes 1,0,0,0\n",
    "\n",
    "print(val1)\n",
    "print(val2)"
   ]
  },
  {
   "cell_type": "markdown",
   "id": "8684de15-03f2-4954-b1f8-f8404115748e",
   "metadata": {},
   "source": [
    "## Question6"
   ]
  },
  {
   "cell_type": "code",
   "execution_count": 23,
   "id": "7e389f47-c18c-4382-8097-42cfccc90b7e",
   "metadata": {},
   "outputs": [
    {
     "data": {
      "text/plain": [
       "1"
      ]
     },
     "execution_count": 23,
     "metadata": {},
     "output_type": "execute_result"
    }
   ],
   "source": [
    "def singleElement(nums):\n",
    "    result=0\n",
    "    for i in nums:\n",
    "        result^=i\n",
    "    return result\n",
    "nums=[2,2,1]\n",
    "singleElement(nums)"
   ]
  },
  {
   "cell_type": "markdown",
   "id": "24d7d7db-3616-4c9f-b160-2671541f8402",
   "metadata": {},
   "source": [
    "## Question7"
   ]
  },
  {
   "cell_type": "code",
   "execution_count": 24,
   "id": "aaef3ebb-49b7-4757-8643-eb9da904d000",
   "metadata": {},
   "outputs": [
    {
     "data": {
      "text/plain": [
       "[[1, 3], [5, 5], [7, 49], [51, 66], [68, 100]]"
      ]
     },
     "execution_count": 24,
     "metadata": {},
     "output_type": "execute_result"
    }
   ],
   "source": [
    "def missingNumbers(nums, lower, upper):\n",
    "    result = []\n",
    "    prev = lower - 1\n",
    "\n",
    "    # Iterate through the range [lower, upper]\n",
    "    for i in range(len(nums) + 1):\n",
    "        if i < len(nums):\n",
    "            num = nums[i]\n",
    "        else:\n",
    "            num = upper + 1\n",
    "\n",
    "        # Check for missing numbers\n",
    "        if prev + 1 <= num - 1:\n",
    "            result.append(listrange(prev + 1, num - 1))\n",
    "\n",
    "        prev = num\n",
    "\n",
    "    return result\n",
    "\n",
    "\n",
    "def listrange(lower, upper):\n",
    "    if lower == upper:\n",
    "        return [lower,lower]\n",
    "    else:\n",
    "        return  [lower,upper]\n",
    "\n",
    "missingNumbers([4,6,50,67],1,100)"
   ]
  },
  {
   "cell_type": "markdown",
   "id": "86f1fda0-6b36-431e-a71c-84d8c81d8465",
   "metadata": {},
   "source": [
    "## Question8"
   ]
  },
  {
   "cell_type": "code",
   "execution_count": 25,
   "id": "e851db0d-3781-41bd-a315-0adee28b8479",
   "metadata": {},
   "outputs": [
    {
     "data": {
      "text/plain": [
       "False"
      ]
     },
     "execution_count": 25,
     "metadata": {},
     "output_type": "execute_result"
    }
   ],
   "source": [
    "def attendMeeting(intervals):\n",
    "    intervals.sort()\n",
    "    for i in range(len(intervals)-1):\n",
    "        if intervals[i+1][0]<intervals[i][1]:\n",
    "            return False\n",
    "        return True\n",
    "attendMeeting([[0,30],[32,10],[15,20]])"
   ]
  },
  {
   "cell_type": "code",
   "execution_count": null,
   "id": "38eb4d16-23e2-44fe-bea5-69604df98136",
   "metadata": {},
   "outputs": [],
   "source": []
  }
 ],
 "metadata": {
  "kernelspec": {
   "display_name": "Python 3 (ipykernel)",
   "language": "python",
   "name": "python3"
  },
  "language_info": {
   "codemirror_mode": {
    "name": "ipython",
    "version": 3
   },
   "file_extension": ".py",
   "mimetype": "text/x-python",
   "name": "python",
   "nbconvert_exporter": "python",
   "pygments_lexer": "ipython3",
   "version": "3.10.8"
  }
 },
 "nbformat": 4,
 "nbformat_minor": 5
}
