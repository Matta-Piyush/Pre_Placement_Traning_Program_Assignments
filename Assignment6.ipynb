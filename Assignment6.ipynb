{
 "cells": [
  {
   "cell_type": "markdown",
   "id": "1e1b1657-c30d-477e-8efa-ba67136902c0",
   "metadata": {},
   "source": [
    "## Question1"
   ]
  },
  {
   "cell_type": "code",
   "execution_count": 2,
   "id": "54843b6f-bee4-404c-a297-5ba6bbdb2173",
   "metadata": {},
   "outputs": [
    {
     "data": {
      "text/plain": [
       "[0, 4, 1, 3, 2]"
      ]
     },
     "execution_count": 2,
     "metadata": {},
     "output_type": "execute_result"
    }
   ],
   "source": [
    "def perm(s):\n",
    "    n=len(s)\n",
    "    res=[]\n",
    "    curr=0\n",
    "\n",
    "    for ch in s:\n",
    "        if ch=='I':\n",
    "            res.append(curr)\n",
    "            curr+=1\n",
    "        elif ch=='D':\n",
    "            res.append(n)\n",
    "            n-=1\n",
    "    res.append(curr)\n",
    "    return res\n",
    "s='IDID'\n",
    "perm(s)"
   ]
  },
  {
   "cell_type": "markdown",
   "id": "9d29ae43-4fa9-4c5c-8e10-14a11201ea9b",
   "metadata": {},
   "source": [
    "## Question2"
   ]
  },
  {
   "cell_type": "code",
   "execution_count": 12,
   "id": "8080e094-49be-4be9-be28-fc24401cd427",
   "metadata": {},
   "outputs": [
    {
     "data": {
      "text/plain": [
       "True"
      ]
     },
     "execution_count": 12,
     "metadata": {},
     "output_type": "execute_result"
    }
   ],
   "source": [
    "def search(mat,target):\n",
    "    rows=len(mat)\n",
    "    cols=len(mat[0])\n",
    "    \n",
    "    lb=0\n",
    "    ub=rows*cols-1\n",
    "    \n",
    "    if rows==0:\n",
    "        return False\n",
    "    \n",
    "    while(lb<=ub):\n",
    "        mid=lb+(ub-lb)//2\n",
    "        \n",
    "        if(mat[mid//cols][mid%cols]==target):\n",
    "            return True\n",
    "        \n",
    "        elif(mat[mid//cols][mid%cols]>target):\n",
    "            ub=mid-1\n",
    "        \n",
    "        else:\n",
    "            lb=mid+1\n",
    "        \n",
    "    return False\n",
    "            \n",
    "matrix = [[1,3,5,7],[10,11,16,20],[23,30,34,60]]\n",
    "search(matrix,16)\n",
    "        "
   ]
  },
  {
   "cell_type": "markdown",
   "id": "c56ccda4-b9d9-4960-aa89-c18d572d4391",
   "metadata": {},
   "source": [
    "## Question3"
   ]
  },
  {
   "cell_type": "code",
   "execution_count": 13,
   "id": "4dd684a3-391c-4016-823b-ec9f946448cc",
   "metadata": {},
   "outputs": [
    {
     "data": {
      "text/plain": [
       "False"
      ]
     },
     "execution_count": 13,
     "metadata": {},
     "output_type": "execute_result"
    }
   ],
   "source": [
    "def valid_mountain(arr):\n",
    "    if len(arr)>=3:\n",
    "        i = 0\n",
    "        while i < len(arr) - 1 and arr[i] < arr[i + 1]:\n",
    "            i += 1\n",
    "            \n",
    "        if i==0 or i==len(arr)-1:\n",
    "            return False\n",
    "\n",
    "        while i < len(arr) - 1 and arr[i] > arr[i + 1]:\n",
    "            i += 1\n",
    "\n",
    "        return i == len(arr) - 1\n",
    "    return False\n",
    "arr=[2,1]\n",
    "valid_mountain(arr)"
   ]
  },
  {
   "cell_type": "markdown",
   "id": "b069da8b-bd1d-495d-9c3a-1992e7775cb8",
   "metadata": {},
   "source": [
    "## Question4"
   ]
  },
  {
   "cell_type": "code",
   "execution_count": 18,
   "id": "9e62a742-7b1c-4534-b25b-1d5c56e5cdf7",
   "metadata": {},
   "outputs": [
    {
     "data": {
      "text/plain": [
       "2"
      ]
     },
     "execution_count": 18,
     "metadata": {},
     "output_type": "execute_result"
    }
   ],
   "source": [
    "def max_length(nums):\n",
    "    max_length = 0\n",
    "    count = 0\n",
    "    count_dict = {0: -1}\n",
    "\n",
    "    for i in range(len(nums)):\n",
    "        if nums[i] == 1:\n",
    "            count += 1\n",
    "        else:\n",
    "            count -= 1\n",
    "\n",
    "        if count in count_dict:\n",
    "            max_length = max(max_length, i - count_dict[count])\n",
    "        else:\n",
    "            count_dict[count] = i\n",
    "\n",
    "    return max_length\n",
    "nums=[0,1]\n",
    "max_length(nums)"
   ]
  },
  {
   "cell_type": "markdown",
   "id": "344376c0-ced0-4810-96b8-43fd6fe72e93",
   "metadata": {},
   "source": [
    "## Question5"
   ]
  },
  {
   "cell_type": "code",
   "execution_count": 21,
   "id": "fd212bc4-2c99-4277-a770-54cb8eed74a5",
   "metadata": {},
   "outputs": [
    {
     "data": {
      "text/plain": [
       "40"
      ]
     },
     "execution_count": 21,
     "metadata": {},
     "output_type": "execute_result"
    }
   ],
   "source": [
    "def min_product(nums1, nums2):\n",
    "    nums1.sort()\n",
    "    nums2.sort(reverse=True)\n",
    "    min_sum= 0\n",
    "\n",
    "    for i in range(len(nums1)):\n",
    "        min_sum += nums1[i] * nums2[i]\n",
    "\n",
    "    return min_sum\n",
    "nums1=[5,3,4,2]\n",
    "nums2=[4,2,2,5]\n",
    "min_product(nums1,nums2)\n"
   ]
  },
  {
   "cell_type": "markdown",
   "id": "6837c241-ae59-4d0e-93bd-a2b08884009e",
   "metadata": {},
   "source": [
    "## Question6"
   ]
  },
  {
   "cell_type": "code",
   "execution_count": 22,
   "id": "8c3495e1-ab86-449c-ba35-6a33af0a3683",
   "metadata": {},
   "outputs": [
    {
     "data": {
      "text/plain": [
       "[1, 3, 4]"
      ]
     },
     "execution_count": 22,
     "metadata": {},
     "output_type": "execute_result"
    }
   ],
   "source": [
    "def findOriginalArray(changed):\n",
    "    if len(changed) % 2 != 0:\n",
    "        return []  # If the length is odd, it can't be a doubled array\n",
    "\n",
    "    count_dict = {}\n",
    "    for num in changed:\n",
    "        count_dict[num] = count_dict.get(num, 0) + 1\n",
    "\n",
    "    original = []\n",
    "    for num in sorted(changed):\n",
    "        if count_dict.get(num * 2, 0) > 0 and count_dict[num] > 0:\n",
    "            original.append(num)\n",
    "            count_dict[num] -= 1\n",
    "            count_dict[num * 2] -= 1\n",
    "\n",
    "    if sum(count_dict.values()) != 0:  # Check if all elements have been used\n",
    "        return []\n",
    "\n",
    "    return original\n",
    "\n",
    "\n",
    "changed = [1,3,4,2,6,8]\n",
    "findOriginalArray(changed)\n"
   ]
  },
  {
   "cell_type": "markdown",
   "id": "a73efa76-c7e5-4e07-b9f3-32bc6ca2f3c7",
   "metadata": {},
   "source": [
    "## Question7"
   ]
  },
  {
   "cell_type": "code",
   "execution_count": 23,
   "id": "dc30cd4c-e6d6-445d-a7a2-d78dcf791730",
   "metadata": {},
   "outputs": [
    {
     "data": {
      "text/plain": [
       "[[1, 2, 3], [8, 9, 4], [7, 6, 5]]"
      ]
     },
     "execution_count": 23,
     "metadata": {},
     "output_type": "execute_result"
    }
   ],
   "source": [
    "def generate_spiral_matrix(n):\n",
    "    matrix = [[0] * n for _ in range(n)]\n",
    "    row_start, row_end = 0, n - 1\n",
    "    col_start, col_end = 0, n - 1\n",
    "    num = 1\n",
    "\n",
    "    while num <= n * n:\n",
    "        # Traverse from left to right\n",
    "        for i in range(col_start, col_end + 1):\n",
    "            matrix[row_start][i] = num\n",
    "            num += 1\n",
    "        row_start += 1\n",
    "\n",
    "        # Traverse from top to bottom\n",
    "        for i in range(row_start, row_end + 1):\n",
    "            matrix[i][col_end] = num\n",
    "            num += 1\n",
    "        col_end -= 1\n",
    "\n",
    "        # Traverse from right to left\n",
    "        for i in range(col_end, col_start - 1, -1):\n",
    "            matrix[row_end][i] = num\n",
    "            num += 1\n",
    "        row_end -= 1\n",
    "\n",
    "        # Traverse from bottom to top\n",
    "        for i in range(row_end, row_start - 1, -1):\n",
    "            matrix[i][col_start] = num\n",
    "            num += 1\n",
    "        col_start += 1\n",
    "\n",
    "    return matrix\n",
    "generate_spiral_matrix(3)"
   ]
  },
  {
   "cell_type": "markdown",
   "id": "b0f07a37-0e6f-4531-824f-948f8e0089a3",
   "metadata": {},
   "source": [
    "## Question8"
   ]
  },
  {
   "cell_type": "code",
   "execution_count": 27,
   "id": "9d6c6752-452b-49f6-b440-6b1dc2df39d5",
   "metadata": {},
   "outputs": [
    {
     "data": {
      "text/plain": [
       "[[7, 0, 0], [-7, 0, 3]]"
      ]
     },
     "execution_count": 27,
     "metadata": {},
     "output_type": "execute_result"
    }
   ],
   "source": [
    "def multiplication(mat1, mat2):\n",
    "    m, k = len(mat1), len(mat1[0])\n",
    "    n = len(mat2[0])\n",
    "    result = [[0] * n for _ in range(m)]\n",
    "\n",
    "    for i in range(m):\n",
    "        for j in range(n):\n",
    "            for x in range(k):\n",
    "                result[i][j] += mat1[i][x] * mat2[x][j]\n",
    "\n",
    "    return result\n",
    "mat1 = [[1,0,0],[-1,0,3]]\n",
    "mat2 = [[7,0,0],[0,0,0],[0,0,1]]\n",
    "multiplication(mat1,mat2)"
   ]
  },
  {
   "cell_type": "code",
   "execution_count": null,
   "id": "4b585b8a-788c-499c-bb6a-ae905c10303d",
   "metadata": {},
   "outputs": [],
   "source": []
  }
 ],
 "metadata": {
  "kernelspec": {
   "display_name": "Python 3 (ipykernel)",
   "language": "python",
   "name": "python3"
  },
  "language_info": {
   "codemirror_mode": {
    "name": "ipython",
    "version": 3
   },
   "file_extension": ".py",
   "mimetype": "text/x-python",
   "name": "python",
   "nbconvert_exporter": "python",
   "pygments_lexer": "ipython3",
   "version": "3.10.8"
  }
 },
 "nbformat": 4,
 "nbformat_minor": 5
}
